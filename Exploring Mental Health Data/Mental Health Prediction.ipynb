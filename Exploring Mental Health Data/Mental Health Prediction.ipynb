{
 "cells": [
  {
   "cell_type": "code",
   "execution_count": 349,
   "id": "6843f4e1-d878-485b-9156-b7d9b7c33fd3",
   "metadata": {},
   "outputs": [],
   "source": [
    "import numpy as np\n",
    "import pandas as pd\n",
    "import matplotlib.pyplot as plt\n",
    "import seaborn as sns\n",
    "from sklearn.preprocessing import LabelEncoder, StandardScaler\n",
    "from sklearn.model_selection import train_test_split\n",
    "from sklearn.ensemble import RandomForestClassifier, BaggingClassifier, GradientBoostingClassifier, ExtraTreesClassifier, AdaBoostClassifier\n",
    "from sklearn.linear_model import LogisticRegression\n",
    "from xgboost import XGBClassifier\n",
    "from lightgbm import LGBMClassifier\n",
    "from sklearn.metrics import accuracy_score"
   ]
  },
  {
   "cell_type": "code",
   "execution_count": 189,
   "id": "c7b52476-c0c4-4932-b173-2c4ad3c6f985",
   "metadata": {},
   "outputs": [
    {
     "data": {
      "text/html": [
       "<div>\n",
       "<style scoped>\n",
       "    .dataframe tbody tr th:only-of-type {\n",
       "        vertical-align: middle;\n",
       "    }\n",
       "\n",
       "    .dataframe tbody tr th {\n",
       "        vertical-align: top;\n",
       "    }\n",
       "\n",
       "    .dataframe thead th {\n",
       "        text-align: right;\n",
       "    }\n",
       "</style>\n",
       "<table border=\"1\" class=\"dataframe\">\n",
       "  <thead>\n",
       "    <tr style=\"text-align: right;\">\n",
       "      <th></th>\n",
       "      <th>id</th>\n",
       "      <th>Name</th>\n",
       "      <th>Gender</th>\n",
       "      <th>Age</th>\n",
       "      <th>City</th>\n",
       "      <th>Working Professional or Student</th>\n",
       "      <th>Profession</th>\n",
       "      <th>Academic Pressure</th>\n",
       "      <th>Work Pressure</th>\n",
       "      <th>CGPA</th>\n",
       "      <th>Study Satisfaction</th>\n",
       "      <th>Job Satisfaction</th>\n",
       "      <th>Sleep Duration</th>\n",
       "      <th>Dietary Habits</th>\n",
       "      <th>Degree</th>\n",
       "      <th>Have you ever had suicidal thoughts ?</th>\n",
       "      <th>Work/Study Hours</th>\n",
       "      <th>Financial Stress</th>\n",
       "      <th>Family History of Mental Illness</th>\n",
       "      <th>Depression</th>\n",
       "    </tr>\n",
       "  </thead>\n",
       "  <tbody>\n",
       "    <tr>\n",
       "      <th>0</th>\n",
       "      <td>0</td>\n",
       "      <td>Aaradhya</td>\n",
       "      <td>Female</td>\n",
       "      <td>49.0</td>\n",
       "      <td>Ludhiana</td>\n",
       "      <td>Working Professional</td>\n",
       "      <td>Chef</td>\n",
       "      <td>NaN</td>\n",
       "      <td>5.0</td>\n",
       "      <td>NaN</td>\n",
       "      <td>NaN</td>\n",
       "      <td>2.0</td>\n",
       "      <td>More than 8 hours</td>\n",
       "      <td>Healthy</td>\n",
       "      <td>BHM</td>\n",
       "      <td>No</td>\n",
       "      <td>1.0</td>\n",
       "      <td>2.0</td>\n",
       "      <td>No</td>\n",
       "      <td>0</td>\n",
       "    </tr>\n",
       "    <tr>\n",
       "      <th>1</th>\n",
       "      <td>1</td>\n",
       "      <td>Vivan</td>\n",
       "      <td>Male</td>\n",
       "      <td>26.0</td>\n",
       "      <td>Varanasi</td>\n",
       "      <td>Working Professional</td>\n",
       "      <td>Teacher</td>\n",
       "      <td>NaN</td>\n",
       "      <td>4.0</td>\n",
       "      <td>NaN</td>\n",
       "      <td>NaN</td>\n",
       "      <td>3.0</td>\n",
       "      <td>Less than 5 hours</td>\n",
       "      <td>Unhealthy</td>\n",
       "      <td>LLB</td>\n",
       "      <td>Yes</td>\n",
       "      <td>7.0</td>\n",
       "      <td>3.0</td>\n",
       "      <td>No</td>\n",
       "      <td>1</td>\n",
       "    </tr>\n",
       "    <tr>\n",
       "      <th>2</th>\n",
       "      <td>2</td>\n",
       "      <td>Yuvraj</td>\n",
       "      <td>Male</td>\n",
       "      <td>33.0</td>\n",
       "      <td>Visakhapatnam</td>\n",
       "      <td>Student</td>\n",
       "      <td>NaN</td>\n",
       "      <td>5.0</td>\n",
       "      <td>NaN</td>\n",
       "      <td>8.97</td>\n",
       "      <td>2.0</td>\n",
       "      <td>NaN</td>\n",
       "      <td>5-6 hours</td>\n",
       "      <td>Healthy</td>\n",
       "      <td>B.Pharm</td>\n",
       "      <td>Yes</td>\n",
       "      <td>3.0</td>\n",
       "      <td>1.0</td>\n",
       "      <td>No</td>\n",
       "      <td>1</td>\n",
       "    </tr>\n",
       "    <tr>\n",
       "      <th>3</th>\n",
       "      <td>3</td>\n",
       "      <td>Yuvraj</td>\n",
       "      <td>Male</td>\n",
       "      <td>22.0</td>\n",
       "      <td>Mumbai</td>\n",
       "      <td>Working Professional</td>\n",
       "      <td>Teacher</td>\n",
       "      <td>NaN</td>\n",
       "      <td>5.0</td>\n",
       "      <td>NaN</td>\n",
       "      <td>NaN</td>\n",
       "      <td>1.0</td>\n",
       "      <td>Less than 5 hours</td>\n",
       "      <td>Moderate</td>\n",
       "      <td>BBA</td>\n",
       "      <td>Yes</td>\n",
       "      <td>10.0</td>\n",
       "      <td>1.0</td>\n",
       "      <td>Yes</td>\n",
       "      <td>1</td>\n",
       "    </tr>\n",
       "    <tr>\n",
       "      <th>4</th>\n",
       "      <td>4</td>\n",
       "      <td>Rhea</td>\n",
       "      <td>Female</td>\n",
       "      <td>30.0</td>\n",
       "      <td>Kanpur</td>\n",
       "      <td>Working Professional</td>\n",
       "      <td>Business Analyst</td>\n",
       "      <td>NaN</td>\n",
       "      <td>1.0</td>\n",
       "      <td>NaN</td>\n",
       "      <td>NaN</td>\n",
       "      <td>1.0</td>\n",
       "      <td>5-6 hours</td>\n",
       "      <td>Unhealthy</td>\n",
       "      <td>BBA</td>\n",
       "      <td>Yes</td>\n",
       "      <td>9.0</td>\n",
       "      <td>4.0</td>\n",
       "      <td>Yes</td>\n",
       "      <td>0</td>\n",
       "    </tr>\n",
       "  </tbody>\n",
       "</table>\n",
       "</div>"
      ],
      "text/plain": [
       "   id      Name  Gender   Age           City Working Professional or Student  \\\n",
       "0   0  Aaradhya  Female  49.0       Ludhiana            Working Professional   \n",
       "1   1     Vivan    Male  26.0       Varanasi            Working Professional   \n",
       "2   2    Yuvraj    Male  33.0  Visakhapatnam                         Student   \n",
       "3   3    Yuvraj    Male  22.0         Mumbai            Working Professional   \n",
       "4   4      Rhea  Female  30.0         Kanpur            Working Professional   \n",
       "\n",
       "         Profession  Academic Pressure  Work Pressure  CGPA  \\\n",
       "0              Chef                NaN            5.0   NaN   \n",
       "1           Teacher                NaN            4.0   NaN   \n",
       "2               NaN                5.0            NaN  8.97   \n",
       "3           Teacher                NaN            5.0   NaN   \n",
       "4  Business Analyst                NaN            1.0   NaN   \n",
       "\n",
       "   Study Satisfaction  Job Satisfaction     Sleep Duration Dietary Habits  \\\n",
       "0                 NaN               2.0  More than 8 hours        Healthy   \n",
       "1                 NaN               3.0  Less than 5 hours      Unhealthy   \n",
       "2                 2.0               NaN          5-6 hours        Healthy   \n",
       "3                 NaN               1.0  Less than 5 hours       Moderate   \n",
       "4                 NaN               1.0          5-6 hours      Unhealthy   \n",
       "\n",
       "    Degree Have you ever had suicidal thoughts ?  Work/Study Hours  \\\n",
       "0      BHM                                    No               1.0   \n",
       "1      LLB                                   Yes               7.0   \n",
       "2  B.Pharm                                   Yes               3.0   \n",
       "3      BBA                                   Yes              10.0   \n",
       "4      BBA                                   Yes               9.0   \n",
       "\n",
       "   Financial Stress Family History of Mental Illness  Depression  \n",
       "0               2.0                               No           0  \n",
       "1               3.0                               No           1  \n",
       "2               1.0                               No           1  \n",
       "3               1.0                              Yes           1  \n",
       "4               4.0                              Yes           0  "
      ]
     },
     "execution_count": 189,
     "metadata": {},
     "output_type": "execute_result"
    }
   ],
   "source": [
    "train = pd.read_csv('train.csv')\n",
    "train.head()"
   ]
  },
  {
   "cell_type": "code",
   "execution_count": 190,
   "id": "52ce6abb-1e8e-4a34-9d01-de9e59232f41",
   "metadata": {},
   "outputs": [
    {
     "data": {
      "text/plain": [
       "(140700, 20)"
      ]
     },
     "execution_count": 190,
     "metadata": {},
     "output_type": "execute_result"
    }
   ],
   "source": [
    "train.shape"
   ]
  },
  {
   "cell_type": "code",
   "execution_count": 191,
   "id": "46bd3211-f619-4d63-ad6e-f9042e9fe55c",
   "metadata": {},
   "outputs": [
    {
     "data": {
      "text/plain": [
       "id                                            0\n",
       "Name                                          0\n",
       "Gender                                        0\n",
       "Age                                           0\n",
       "City                                          0\n",
       "Working Professional or Student               0\n",
       "Profession                                36630\n",
       "Academic Pressure                        112803\n",
       "Work Pressure                             27918\n",
       "CGPA                                     112802\n",
       "Study Satisfaction                       112803\n",
       "Job Satisfaction                          27910\n",
       "Sleep Duration                                0\n",
       "Dietary Habits                                4\n",
       "Degree                                        2\n",
       "Have you ever had suicidal thoughts ?         0\n",
       "Work/Study Hours                              0\n",
       "Financial Stress                              4\n",
       "Family History of Mental Illness              0\n",
       "Depression                                    0\n",
       "dtype: int64"
      ]
     },
     "execution_count": 191,
     "metadata": {},
     "output_type": "execute_result"
    }
   ],
   "source": [
    "train.isnull().sum()"
   ]
  },
  {
   "cell_type": "code",
   "execution_count": 192,
   "id": "7f0aa8df-779f-4e9f-a4af-01291d4fd968",
   "metadata": {},
   "outputs": [
    {
     "data": {
      "text/plain": [
       "0"
      ]
     },
     "execution_count": 192,
     "metadata": {},
     "output_type": "execute_result"
    }
   ],
   "source": [
    "train.duplicated().sum()"
   ]
  },
  {
   "cell_type": "code",
   "execution_count": 193,
   "id": "3eef985d-e0d7-46b7-9703-332d1427f889",
   "metadata": {},
   "outputs": [
    {
     "data": {
      "text/html": [
       "<div>\n",
       "<style scoped>\n",
       "    .dataframe tbody tr th:only-of-type {\n",
       "        vertical-align: middle;\n",
       "    }\n",
       "\n",
       "    .dataframe tbody tr th {\n",
       "        vertical-align: top;\n",
       "    }\n",
       "\n",
       "    .dataframe thead th {\n",
       "        text-align: right;\n",
       "    }\n",
       "</style>\n",
       "<table border=\"1\" class=\"dataframe\">\n",
       "  <thead>\n",
       "    <tr style=\"text-align: right;\">\n",
       "      <th></th>\n",
       "      <th>id</th>\n",
       "      <th>Age</th>\n",
       "      <th>Academic Pressure</th>\n",
       "      <th>Work Pressure</th>\n",
       "      <th>CGPA</th>\n",
       "      <th>Study Satisfaction</th>\n",
       "      <th>Job Satisfaction</th>\n",
       "      <th>Work/Study Hours</th>\n",
       "      <th>Financial Stress</th>\n",
       "      <th>Depression</th>\n",
       "    </tr>\n",
       "  </thead>\n",
       "  <tbody>\n",
       "    <tr>\n",
       "      <th>count</th>\n",
       "      <td>140700.000000</td>\n",
       "      <td>140700.000000</td>\n",
       "      <td>27897.000000</td>\n",
       "      <td>112782.000000</td>\n",
       "      <td>27898.000000</td>\n",
       "      <td>27897.000000</td>\n",
       "      <td>112790.000000</td>\n",
       "      <td>140700.000000</td>\n",
       "      <td>140696.000000</td>\n",
       "      <td>140700.000000</td>\n",
       "    </tr>\n",
       "    <tr>\n",
       "      <th>mean</th>\n",
       "      <td>70349.500000</td>\n",
       "      <td>40.388621</td>\n",
       "      <td>3.142273</td>\n",
       "      <td>2.998998</td>\n",
       "      <td>7.658636</td>\n",
       "      <td>2.944940</td>\n",
       "      <td>2.974404</td>\n",
       "      <td>6.252679</td>\n",
       "      <td>2.988983</td>\n",
       "      <td>0.181713</td>\n",
       "    </tr>\n",
       "    <tr>\n",
       "      <th>std</th>\n",
       "      <td>40616.735775</td>\n",
       "      <td>12.384099</td>\n",
       "      <td>1.380457</td>\n",
       "      <td>1.405771</td>\n",
       "      <td>1.464466</td>\n",
       "      <td>1.360197</td>\n",
       "      <td>1.416078</td>\n",
       "      <td>3.853615</td>\n",
       "      <td>1.413633</td>\n",
       "      <td>0.385609</td>\n",
       "    </tr>\n",
       "    <tr>\n",
       "      <th>min</th>\n",
       "      <td>0.000000</td>\n",
       "      <td>18.000000</td>\n",
       "      <td>1.000000</td>\n",
       "      <td>1.000000</td>\n",
       "      <td>5.030000</td>\n",
       "      <td>1.000000</td>\n",
       "      <td>1.000000</td>\n",
       "      <td>0.000000</td>\n",
       "      <td>1.000000</td>\n",
       "      <td>0.000000</td>\n",
       "    </tr>\n",
       "    <tr>\n",
       "      <th>25%</th>\n",
       "      <td>35174.750000</td>\n",
       "      <td>29.000000</td>\n",
       "      <td>2.000000</td>\n",
       "      <td>2.000000</td>\n",
       "      <td>6.290000</td>\n",
       "      <td>2.000000</td>\n",
       "      <td>2.000000</td>\n",
       "      <td>3.000000</td>\n",
       "      <td>2.000000</td>\n",
       "      <td>0.000000</td>\n",
       "    </tr>\n",
       "    <tr>\n",
       "      <th>50%</th>\n",
       "      <td>70349.500000</td>\n",
       "      <td>42.000000</td>\n",
       "      <td>3.000000</td>\n",
       "      <td>3.000000</td>\n",
       "      <td>7.770000</td>\n",
       "      <td>3.000000</td>\n",
       "      <td>3.000000</td>\n",
       "      <td>6.000000</td>\n",
       "      <td>3.000000</td>\n",
       "      <td>0.000000</td>\n",
       "    </tr>\n",
       "    <tr>\n",
       "      <th>75%</th>\n",
       "      <td>105524.250000</td>\n",
       "      <td>51.000000</td>\n",
       "      <td>4.000000</td>\n",
       "      <td>4.000000</td>\n",
       "      <td>8.920000</td>\n",
       "      <td>4.000000</td>\n",
       "      <td>4.000000</td>\n",
       "      <td>10.000000</td>\n",
       "      <td>4.000000</td>\n",
       "      <td>0.000000</td>\n",
       "    </tr>\n",
       "    <tr>\n",
       "      <th>max</th>\n",
       "      <td>140699.000000</td>\n",
       "      <td>60.000000</td>\n",
       "      <td>5.000000</td>\n",
       "      <td>5.000000</td>\n",
       "      <td>10.000000</td>\n",
       "      <td>5.000000</td>\n",
       "      <td>5.000000</td>\n",
       "      <td>12.000000</td>\n",
       "      <td>5.000000</td>\n",
       "      <td>1.000000</td>\n",
       "    </tr>\n",
       "  </tbody>\n",
       "</table>\n",
       "</div>"
      ],
      "text/plain": [
       "                  id            Age  Academic Pressure  Work Pressure  \\\n",
       "count  140700.000000  140700.000000       27897.000000  112782.000000   \n",
       "mean    70349.500000      40.388621           3.142273       2.998998   \n",
       "std     40616.735775      12.384099           1.380457       1.405771   \n",
       "min         0.000000      18.000000           1.000000       1.000000   \n",
       "25%     35174.750000      29.000000           2.000000       2.000000   \n",
       "50%     70349.500000      42.000000           3.000000       3.000000   \n",
       "75%    105524.250000      51.000000           4.000000       4.000000   \n",
       "max    140699.000000      60.000000           5.000000       5.000000   \n",
       "\n",
       "               CGPA  Study Satisfaction  Job Satisfaction  Work/Study Hours  \\\n",
       "count  27898.000000        27897.000000     112790.000000     140700.000000   \n",
       "mean       7.658636            2.944940          2.974404          6.252679   \n",
       "std        1.464466            1.360197          1.416078          3.853615   \n",
       "min        5.030000            1.000000          1.000000          0.000000   \n",
       "25%        6.290000            2.000000          2.000000          3.000000   \n",
       "50%        7.770000            3.000000          3.000000          6.000000   \n",
       "75%        8.920000            4.000000          4.000000         10.000000   \n",
       "max       10.000000            5.000000          5.000000         12.000000   \n",
       "\n",
       "       Financial Stress     Depression  \n",
       "count     140696.000000  140700.000000  \n",
       "mean           2.988983       0.181713  \n",
       "std            1.413633       0.385609  \n",
       "min            1.000000       0.000000  \n",
       "25%            2.000000       0.000000  \n",
       "50%            3.000000       0.000000  \n",
       "75%            4.000000       0.000000  \n",
       "max            5.000000       1.000000  "
      ]
     },
     "execution_count": 193,
     "metadata": {},
     "output_type": "execute_result"
    }
   ],
   "source": [
    "train.describe()"
   ]
  },
  {
   "cell_type": "code",
   "execution_count": 321,
   "id": "0513862b-2618-4249-ad07-cc9c2672a1a1",
   "metadata": {},
   "outputs": [
    {
     "data": {
      "text/plain": [
       "<Axes: xlabel='Depression'>"
      ]
     },
     "execution_count": 321,
     "metadata": {},
     "output_type": "execute_result"
    },
    {
     "data": {
      "image/png": "[encoded data removed]",
      "text/plain": [
       "<Figure size 640x480 with 1 Axes>"
      ]
     },
     "metadata": {},
     "output_type": "display_data"
    }
   ],
   "source": [
    "train['Depression'].value_counts().plot(kind='bar')"
   ]
  },
  {
   "cell_type": "code",
   "execution_count": 194,
   "id": "e2256855-f90e-4bd0-affb-111145d5015d",
   "metadata": {},
   "outputs": [
    {
     "data": {
      "text/html": [
       "<div>\n",
       "<style scoped>\n",
       "    .dataframe tbody tr th:only-of-type {\n",
       "        vertical-align: middle;\n",
       "    }\n",
       "\n",
       "    .dataframe tbody tr th {\n",
       "        vertical-align: top;\n",
       "    }\n",
       "\n",
       "    .dataframe thead th {\n",
       "        text-align: right;\n",
       "    }\n",
       "</style>\n",
       "<table border=\"1\" class=\"dataframe\">\n",
       "  <thead>\n",
       "    <tr style=\"text-align: right;\">\n",
       "      <th></th>\n",
       "      <th>id</th>\n",
       "      <th>Name</th>\n",
       "      <th>Gender</th>\n",
       "      <th>Age</th>\n",
       "      <th>City</th>\n",
       "      <th>Working Professional or Student</th>\n",
       "      <th>Profession</th>\n",
       "      <th>Academic Pressure</th>\n",
       "      <th>Work Pressure</th>\n",
       "      <th>CGPA</th>\n",
       "      <th>Study Satisfaction</th>\n",
       "      <th>Job Satisfaction</th>\n",
       "      <th>Sleep Duration</th>\n",
       "      <th>Dietary Habits</th>\n",
       "      <th>Degree</th>\n",
       "      <th>Have you ever had suicidal thoughts ?</th>\n",
       "      <th>Work/Study Hours</th>\n",
       "      <th>Financial Stress</th>\n",
       "      <th>Family History of Mental Illness</th>\n",
       "    </tr>\n",
       "  </thead>\n",
       "  <tbody>\n",
       "    <tr>\n",
       "      <th>0</th>\n",
       "      <td>140700</td>\n",
       "      <td>Shivam</td>\n",
       "      <td>Male</td>\n",
       "      <td>53.0</td>\n",
       "      <td>Visakhapatnam</td>\n",
       "      <td>Working Professional</td>\n",
       "      <td>Judge</td>\n",
       "      <td>NaN</td>\n",
       "      <td>2.0</td>\n",
       "      <td>NaN</td>\n",
       "      <td>NaN</td>\n",
       "      <td>5.0</td>\n",
       "      <td>Less than 5 hours</td>\n",
       "      <td>Moderate</td>\n",
       "      <td>LLB</td>\n",
       "      <td>No</td>\n",
       "      <td>9.0</td>\n",
       "      <td>3.0</td>\n",
       "      <td>Yes</td>\n",
       "    </tr>\n",
       "    <tr>\n",
       "      <th>1</th>\n",
       "      <td>140701</td>\n",
       "      <td>Sanya</td>\n",
       "      <td>Female</td>\n",
       "      <td>58.0</td>\n",
       "      <td>Kolkata</td>\n",
       "      <td>Working Professional</td>\n",
       "      <td>Educational Consultant</td>\n",
       "      <td>NaN</td>\n",
       "      <td>2.0</td>\n",
       "      <td>NaN</td>\n",
       "      <td>NaN</td>\n",
       "      <td>4.0</td>\n",
       "      <td>Less than 5 hours</td>\n",
       "      <td>Moderate</td>\n",
       "      <td>B.Ed</td>\n",
       "      <td>No</td>\n",
       "      <td>6.0</td>\n",
       "      <td>4.0</td>\n",
       "      <td>No</td>\n",
       "    </tr>\n",
       "    <tr>\n",
       "      <th>2</th>\n",
       "      <td>140702</td>\n",
       "      <td>Yash</td>\n",
       "      <td>Male</td>\n",
       "      <td>53.0</td>\n",
       "      <td>Jaipur</td>\n",
       "      <td>Working Professional</td>\n",
       "      <td>Teacher</td>\n",
       "      <td>NaN</td>\n",
       "      <td>4.0</td>\n",
       "      <td>NaN</td>\n",
       "      <td>NaN</td>\n",
       "      <td>1.0</td>\n",
       "      <td>7-8 hours</td>\n",
       "      <td>Moderate</td>\n",
       "      <td>B.Arch</td>\n",
       "      <td>Yes</td>\n",
       "      <td>12.0</td>\n",
       "      <td>4.0</td>\n",
       "      <td>No</td>\n",
       "    </tr>\n",
       "    <tr>\n",
       "      <th>3</th>\n",
       "      <td>140703</td>\n",
       "      <td>Nalini</td>\n",
       "      <td>Female</td>\n",
       "      <td>23.0</td>\n",
       "      <td>Rajkot</td>\n",
       "      <td>Student</td>\n",
       "      <td>NaN</td>\n",
       "      <td>5.0</td>\n",
       "      <td>NaN</td>\n",
       "      <td>6.84</td>\n",
       "      <td>1.0</td>\n",
       "      <td>NaN</td>\n",
       "      <td>More than 8 hours</td>\n",
       "      <td>Moderate</td>\n",
       "      <td>BSc</td>\n",
       "      <td>Yes</td>\n",
       "      <td>10.0</td>\n",
       "      <td>4.0</td>\n",
       "      <td>No</td>\n",
       "    </tr>\n",
       "    <tr>\n",
       "      <th>4</th>\n",
       "      <td>140704</td>\n",
       "      <td>Shaurya</td>\n",
       "      <td>Male</td>\n",
       "      <td>47.0</td>\n",
       "      <td>Kalyan</td>\n",
       "      <td>Working Professional</td>\n",
       "      <td>Teacher</td>\n",
       "      <td>NaN</td>\n",
       "      <td>5.0</td>\n",
       "      <td>NaN</td>\n",
       "      <td>NaN</td>\n",
       "      <td>5.0</td>\n",
       "      <td>7-8 hours</td>\n",
       "      <td>Moderate</td>\n",
       "      <td>BCA</td>\n",
       "      <td>Yes</td>\n",
       "      <td>3.0</td>\n",
       "      <td>4.0</td>\n",
       "      <td>No</td>\n",
       "    </tr>\n",
       "  </tbody>\n",
       "</table>\n",
       "</div>"
      ],
      "text/plain": [
       "       id     Name  Gender   Age           City  \\\n",
       "0  140700   Shivam    Male  53.0  Visakhapatnam   \n",
       "1  140701    Sanya  Female  58.0        Kolkata   \n",
       "2  140702     Yash    Male  53.0         Jaipur   \n",
       "3  140703   Nalini  Female  23.0         Rajkot   \n",
       "4  140704  Shaurya    Male  47.0         Kalyan   \n",
       "\n",
       "  Working Professional or Student              Profession  Academic Pressure  \\\n",
       "0            Working Professional                   Judge                NaN   \n",
       "1            Working Professional  Educational Consultant                NaN   \n",
       "2            Working Professional                 Teacher                NaN   \n",
       "3                         Student                     NaN                5.0   \n",
       "4            Working Professional                 Teacher                NaN   \n",
       "\n",
       "   Work Pressure  CGPA  Study Satisfaction  Job Satisfaction  \\\n",
       "0            2.0   NaN                 NaN               5.0   \n",
       "1            2.0   NaN                 NaN               4.0   \n",
       "2            4.0   NaN                 NaN               1.0   \n",
       "3            NaN  6.84                 1.0               NaN   \n",
       "4            5.0   NaN                 NaN               5.0   \n",
       "\n",
       "      Sleep Duration Dietary Habits  Degree  \\\n",
       "0  Less than 5 hours       Moderate     LLB   \n",
       "1  Less than 5 hours       Moderate    B.Ed   \n",
       "2          7-8 hours       Moderate  B.Arch   \n",
       "3  More than 8 hours       Moderate     BSc   \n",
       "4          7-8 hours       Moderate     BCA   \n",
       "\n",
       "  Have you ever had suicidal thoughts ?  Work/Study Hours  Financial Stress  \\\n",
       "0                                    No               9.0               3.0   \n",
       "1                                    No               6.0               4.0   \n",
       "2                                   Yes              12.0               4.0   \n",
       "3                                   Yes              10.0               4.0   \n",
       "4                                   Yes               3.0               4.0   \n",
       "\n",
       "  Family History of Mental Illness  \n",
       "0                              Yes  \n",
       "1                               No  \n",
       "2                               No  \n",
       "3                               No  \n",
       "4                               No  "
      ]
     },
     "execution_count": 194,
     "metadata": {},
     "output_type": "execute_result"
    }
   ],
   "source": [
    "test = pd.read_csv('test.csv')\n",
    "test.head()"
   ]
  },
  {
   "cell_type": "code",
   "execution_count": 195,
   "id": "6c46a6ff-6a78-4c1c-bc5d-f3aa0ed2a493",
   "metadata": {},
   "outputs": [
    {
     "data": {
      "text/plain": [
       "(93800, 19)"
      ]
     },
     "execution_count": 195,
     "metadata": {},
     "output_type": "execute_result"
    }
   ],
   "source": [
    "test.shape"
   ]
  },
  {
   "cell_type": "code",
   "execution_count": 196,
   "id": "0408e9b6-940c-402c-84d6-2cde30b2e7b7",
   "metadata": {},
   "outputs": [
    {
     "data": {
      "text/plain": [
       "id                                           0\n",
       "Name                                         0\n",
       "Gender                                       0\n",
       "Age                                          0\n",
       "City                                         0\n",
       "Working Professional or Student              0\n",
       "Profession                               24632\n",
       "Academic Pressure                        75033\n",
       "Work Pressure                            18778\n",
       "CGPA                                     75034\n",
       "Study Satisfaction                       75033\n",
       "Job Satisfaction                         18774\n",
       "Sleep Duration                               0\n",
       "Dietary Habits                               5\n",
       "Degree                                       2\n",
       "Have you ever had suicidal thoughts ?        0\n",
       "Work/Study Hours                             0\n",
       "Financial Stress                             0\n",
       "Family History of Mental Illness             0\n",
       "dtype: int64"
      ]
     },
     "execution_count": 196,
     "metadata": {},
     "output_type": "execute_result"
    }
   ],
   "source": [
    "test.isnull().sum()"
   ]
  },
  {
   "cell_type": "code",
   "execution_count": 197,
   "id": "b49055a9-cd22-444e-84eb-c84464b8911a",
   "metadata": {},
   "outputs": [
    {
     "data": {
      "text/plain": [
       "0"
      ]
     },
     "execution_count": 197,
     "metadata": {},
     "output_type": "execute_result"
    }
   ],
   "source": [
    "test.duplicated().sum()"
   ]
  },
  {
   "cell_type": "code",
   "execution_count": 198,
   "id": "6a9eb455-8b06-4ab9-a97e-9197b17b112e",
   "metadata": {},
   "outputs": [
    {
     "data": {
      "text/html": [
       "<div>\n",
       "<style scoped>\n",
       "    .dataframe tbody tr th:only-of-type {\n",
       "        vertical-align: middle;\n",
       "    }\n",
       "\n",
       "    .dataframe tbody tr th {\n",
       "        vertical-align: top;\n",
       "    }\n",
       "\n",
       "    .dataframe thead th {\n",
       "        text-align: right;\n",
       "    }\n",
       "</style>\n",
       "<table border=\"1\" class=\"dataframe\">\n",
       "  <thead>\n",
       "    <tr style=\"text-align: right;\">\n",
       "      <th></th>\n",
       "      <th>id</th>\n",
       "      <th>Name</th>\n",
       "      <th>Gender</th>\n",
       "      <th>Age</th>\n",
       "      <th>City</th>\n",
       "      <th>Working Professional or Student</th>\n",
       "      <th>Profession</th>\n",
       "      <th>Academic Pressure</th>\n",
       "      <th>Work Pressure</th>\n",
       "      <th>CGPA</th>\n",
       "      <th>Study Satisfaction</th>\n",
       "      <th>Job Satisfaction</th>\n",
       "      <th>Sleep Duration</th>\n",
       "      <th>Dietary Habits</th>\n",
       "      <th>Degree</th>\n",
       "      <th>Have you ever had suicidal thoughts ?</th>\n",
       "      <th>Work/Study Hours</th>\n",
       "      <th>Financial Stress</th>\n",
       "      <th>Family History of Mental Illness</th>\n",
       "      <th>Depression</th>\n",
       "    </tr>\n",
       "  </thead>\n",
       "  <tbody>\n",
       "    <tr>\n",
       "      <th>0</th>\n",
       "      <td>0</td>\n",
       "      <td>Aaradhya</td>\n",
       "      <td>Female</td>\n",
       "      <td>49.0</td>\n",
       "      <td>Ludhiana</td>\n",
       "      <td>Working Professional</td>\n",
       "      <td>Chef</td>\n",
       "      <td>NaN</td>\n",
       "      <td>5.0</td>\n",
       "      <td>NaN</td>\n",
       "      <td>NaN</td>\n",
       "      <td>2.0</td>\n",
       "      <td>More than 8 hours</td>\n",
       "      <td>Healthy</td>\n",
       "      <td>BHM</td>\n",
       "      <td>No</td>\n",
       "      <td>1.0</td>\n",
       "      <td>2.0</td>\n",
       "      <td>No</td>\n",
       "      <td>0.0</td>\n",
       "    </tr>\n",
       "    <tr>\n",
       "      <th>1</th>\n",
       "      <td>1</td>\n",
       "      <td>Vivan</td>\n",
       "      <td>Male</td>\n",
       "      <td>26.0</td>\n",
       "      <td>Varanasi</td>\n",
       "      <td>Working Professional</td>\n",
       "      <td>Teacher</td>\n",
       "      <td>NaN</td>\n",
       "      <td>4.0</td>\n",
       "      <td>NaN</td>\n",
       "      <td>NaN</td>\n",
       "      <td>3.0</td>\n",
       "      <td>Less than 5 hours</td>\n",
       "      <td>Unhealthy</td>\n",
       "      <td>LLB</td>\n",
       "      <td>Yes</td>\n",
       "      <td>7.0</td>\n",
       "      <td>3.0</td>\n",
       "      <td>No</td>\n",
       "      <td>1.0</td>\n",
       "    </tr>\n",
       "    <tr>\n",
       "      <th>2</th>\n",
       "      <td>2</td>\n",
       "      <td>Yuvraj</td>\n",
       "      <td>Male</td>\n",
       "      <td>33.0</td>\n",
       "      <td>Visakhapatnam</td>\n",
       "      <td>Student</td>\n",
       "      <td>NaN</td>\n",
       "      <td>5.0</td>\n",
       "      <td>NaN</td>\n",
       "      <td>8.97</td>\n",
       "      <td>2.0</td>\n",
       "      <td>NaN</td>\n",
       "      <td>5-6 hours</td>\n",
       "      <td>Healthy</td>\n",
       "      <td>B.Pharm</td>\n",
       "      <td>Yes</td>\n",
       "      <td>3.0</td>\n",
       "      <td>1.0</td>\n",
       "      <td>No</td>\n",
       "      <td>1.0</td>\n",
       "    </tr>\n",
       "    <tr>\n",
       "      <th>3</th>\n",
       "      <td>3</td>\n",
       "      <td>Yuvraj</td>\n",
       "      <td>Male</td>\n",
       "      <td>22.0</td>\n",
       "      <td>Mumbai</td>\n",
       "      <td>Working Professional</td>\n",
       "      <td>Teacher</td>\n",
       "      <td>NaN</td>\n",
       "      <td>5.0</td>\n",
       "      <td>NaN</td>\n",
       "      <td>NaN</td>\n",
       "      <td>1.0</td>\n",
       "      <td>Less than 5 hours</td>\n",
       "      <td>Moderate</td>\n",
       "      <td>BBA</td>\n",
       "      <td>Yes</td>\n",
       "      <td>10.0</td>\n",
       "      <td>1.0</td>\n",
       "      <td>Yes</td>\n",
       "      <td>1.0</td>\n",
       "    </tr>\n",
       "    <tr>\n",
       "      <th>4</th>\n",
       "      <td>4</td>\n",
       "      <td>Rhea</td>\n",
       "      <td>Female</td>\n",
       "      <td>30.0</td>\n",
       "      <td>Kanpur</td>\n",
       "      <td>Working Professional</td>\n",
       "      <td>Business Analyst</td>\n",
       "      <td>NaN</td>\n",
       "      <td>1.0</td>\n",
       "      <td>NaN</td>\n",
       "      <td>NaN</td>\n",
       "      <td>1.0</td>\n",
       "      <td>5-6 hours</td>\n",
       "      <td>Unhealthy</td>\n",
       "      <td>BBA</td>\n",
       "      <td>Yes</td>\n",
       "      <td>9.0</td>\n",
       "      <td>4.0</td>\n",
       "      <td>Yes</td>\n",
       "      <td>0.0</td>\n",
       "    </tr>\n",
       "  </tbody>\n",
       "</table>\n",
       "</div>"
      ],
      "text/plain": [
       "   id      Name  Gender   Age           City Working Professional or Student  \\\n",
       "0   0  Aaradhya  Female  49.0       Ludhiana            Working Professional   \n",
       "1   1     Vivan    Male  26.0       Varanasi            Working Professional   \n",
       "2   2    Yuvraj    Male  33.0  Visakhapatnam                         Student   \n",
       "3   3    Yuvraj    Male  22.0         Mumbai            Working Professional   \n",
       "4   4      Rhea  Female  30.0         Kanpur            Working Professional   \n",
       "\n",
       "         Profession  Academic Pressure  Work Pressure  CGPA  \\\n",
       "0              Chef                NaN            5.0   NaN   \n",
       "1           Teacher                NaN            4.0   NaN   \n",
       "2               NaN                5.0            NaN  8.97   \n",
       "3           Teacher                NaN            5.0   NaN   \n",
       "4  Business Analyst                NaN            1.0   NaN   \n",
       "\n",
       "   Study Satisfaction  Job Satisfaction     Sleep Duration Dietary Habits  \\\n",
       "0                 NaN               2.0  More than 8 hours        Healthy   \n",
       "1                 NaN               3.0  Less than 5 hours      Unhealthy   \n",
       "2                 2.0               NaN          5-6 hours        Healthy   \n",
       "3                 NaN               1.0  Less than 5 hours       Moderate   \n",
       "4                 NaN               1.0          5-6 hours      Unhealthy   \n",
       "\n",
       "    Degree Have you ever had suicidal thoughts ?  Work/Study Hours  \\\n",
       "0      BHM                                    No               1.0   \n",
       "1      LLB                                   Yes               7.0   \n",
       "2  B.Pharm                                   Yes               3.0   \n",
       "3      BBA                                   Yes              10.0   \n",
       "4      BBA                                   Yes               9.0   \n",
       "\n",
       "   Financial Stress Family History of Mental Illness  Depression  \n",
       "0               2.0                               No         0.0  \n",
       "1               3.0                               No         1.0  \n",
       "2               1.0                               No         1.0  \n",
       "3               1.0                              Yes         1.0  \n",
       "4               4.0                              Yes         0.0  "
      ]
     },
     "execution_count": 198,
     "metadata": {},
     "output_type": "execute_result"
    }
   ],
   "source": [
    "combined = pd.concat([train, test], axis = 0)\n",
    "combined.head()"
   ]
  },
  {
   "cell_type": "code",
   "execution_count": 199,
   "id": "61f2781a-02f9-40d7-b5f7-020390563879",
   "metadata": {},
   "outputs": [
    {
     "data": {
      "text/plain": [
       "(234500, 20)"
      ]
     },
     "execution_count": 199,
     "metadata": {},
     "output_type": "execute_result"
    }
   ],
   "source": [
    "combined.shape"
   ]
  },
  {
   "cell_type": "code",
   "execution_count": 281,
   "id": "4fc476d8-6f44-42fd-b623-25ae51f7e866",
   "metadata": {},
   "outputs": [
    {
     "name": "stdout",
     "output_type": "stream",
     "text": [
      "<class 'pandas.core.frame.DataFrame'>\n",
      "Index: 234500 entries, 0 to 93799\n",
      "Data columns (total 20 columns):\n",
      " #   Column                                 Non-Null Count   Dtype  \n",
      "---  ------                                 --------------   -----  \n",
      " 0   id                                     234500 non-null  int64  \n",
      " 1   Name                                   234500 non-null  object \n",
      " 2   Gender                                 234500 non-null  object \n",
      " 3   Age                                    234500 non-null  float64\n",
      " 4   City                                   234500 non-null  object \n",
      " 5   Working Professional or Student        234500 non-null  object \n",
      " 6   Profession                             234500 non-null  object \n",
      " 7   Academic Pressure                      234500 non-null  float64\n",
      " 8   Work Pressure                          234500 non-null  float64\n",
      " 9   CGPA                                   234500 non-null  float64\n",
      " 10  Study Satisfaction                     234500 non-null  float64\n",
      " 11  Job Satisfaction                       234500 non-null  float64\n",
      " 12  Sleep Duration                         234500 non-null  object \n",
      " 13  Dietary Habits                         234500 non-null  object \n",
      " 14  Degree                                 234500 non-null  object \n",
      " 15  Have you ever had suicidal thoughts ?  234500 non-null  object \n",
      " 16  Work/Study Hours                       234500 non-null  float64\n",
      " 17  Financial Stress                       234496 non-null  float64\n",
      " 18  Family History of Mental Illness       234500 non-null  object \n",
      " 19  Depression                             140700 non-null  float64\n",
      "dtypes: float64(9), int64(1), object(10)\n",
      "memory usage: 37.6+ MB\n"
     ]
    }
   ],
   "source": [
    "combined.info()"
   ]
  },
  {
   "cell_type": "code",
   "execution_count": 201,
   "id": "fae48b1a-3c41-4d2e-a93a-a2b70d1bc687",
   "metadata": {},
   "outputs": [
    {
     "data": {
      "text/plain": [
       "Gender\n",
       "Male      128726\n",
       "Female    105774\n",
       "Name: count, dtype: int64"
      ]
     },
     "execution_count": 201,
     "metadata": {},
     "output_type": "execute_result"
    }
   ],
   "source": [
    "combined['Gender'].value_counts()"
   ]
  },
  {
   "cell_type": "code",
   "execution_count": 202,
   "id": "9884afb6-c96d-4a35-a251-e30068350c02",
   "metadata": {},
   "outputs": [],
   "source": [
    "combined['City'] = combined['City'].replace({\"Less Delhi\": \"Delhi\", \"Molkata\": \"Kolkata\", \"Tolkata\": \"Kolkata\", \"Khaziabad\": \"Ghaziabad\",\n",
    "            \"Nalyan\": \"Kalyan\"})"
   ]
  },
  {
   "cell_type": "code",
   "execution_count": 203,
   "id": "982ac8a5-8013-41c3-83b3-d12502675e36",
   "metadata": {},
   "outputs": [
    {
     "data": {
      "text/plain": [
       "81"
      ]
     },
     "execution_count": 203,
     "metadata": {},
     "output_type": "execute_result"
    }
   ],
   "source": [
    "combined['Profession'].nunique()"
   ]
  },
  {
   "cell_type": "code",
   "execution_count": 204,
   "id": "57c1b628-0da7-4a2c-8267-9488e4592400",
   "metadata": {},
   "outputs": [
    {
     "data": {
      "text/plain": [
       "Profession\n",
       "Teacher                   41291\n",
       "Content Writer            13001\n",
       "Architect                  7352\n",
       "Consultant                 7149\n",
       "HR Manager                 6623\n",
       "Pharmacist                 6549\n",
       "Doctor                     5453\n",
       "Business Analyst           5347\n",
       "Chemist                    4934\n",
       "Entrepreneur               4903\n",
       "Chef                       4706\n",
       "Educational Consultant     4679\n",
       "Data Scientist             3972\n",
       "Researcher                 3824\n",
       "Lawyer                     3709\n",
       "Customer Support           3477\n",
       "Pilot                      3361\n",
       "Marketing Manager          3260\n",
       "Travel Consultant          3048\n",
       "Judge                      2901\n",
       "Manager                    2892\n",
       "Sales Executive            2878\n",
       "Plumber                    2871\n",
       "Electrician                2703\n",
       "Financial Analyst          2622\n",
       "Software Engineer          2512\n",
       "Civil Engineer             2408\n",
       "UX/UI Designer             2367\n",
       "Digital Marketer           2314\n",
       "Finanancial Analyst        2223\n",
       "Accountant                 2192\n",
       "Mechanical Engineer        1977\n",
       "Graphic Designer           1883\n",
       "Research Analyst           1113\n",
       "Investment Banker           650\n",
       "Student                      15\n",
       "Unemployed                    5\n",
       "Working Professional          5\n",
       "Academic                      5\n",
       "Profession                    4\n",
       "Yogesh                        4\n",
       "LLM                           3\n",
       "BCA                           3\n",
       "PhD                           3\n",
       "B.Ed                          3\n",
       "MD                            2\n",
       "Surat                         2\n",
       "Unhealthy                     2\n",
       "MBA                           2\n",
       "BBA                           2\n",
       "Name: count, dtype: int64"
      ]
     },
     "execution_count": 204,
     "metadata": {},
     "output_type": "execute_result"
    }
   ],
   "source": [
    "combined['Profession'].value_counts().head(50)"
   ]
  },
  {
   "cell_type": "code",
   "execution_count": 205,
   "id": "6bf2554b-d155-41ec-ad33-bf8ce0650376",
   "metadata": {},
   "outputs": [],
   "source": [
    "y = ['UX/UI Designer', 'Content Writer', 'Educational Consultant', 'Chef', 'Teacher', 'Business Analyst', 'Finanancial Analyst', 'Chemist',\n",
    "      'Digital Marketer', 'Lawyer', 'Research Analyst', 'Sales Executive', 'Doctor', 'Electrician', 'Software Engineer', 'Data Scientist', 'Plumber',\n",
    "      'Civil Engineer', 'Manager', 'Pharmacist', 'Financial Analyst', 'Architect','Marketing Manager', 'Accountant', 'Entrepreneur', 'HR Manager',\n",
    "     'Researcher', 'Pilot', 'Graphic Designer', 'Travel Consultant', 'Unemployed', 'Investment Banker', 'Family Consultant', 'City Manager',\n",
    "     'Medical Doctor', 'Analyst','Mechanical Engineer', 'Customer Support', 'Consultant', 'Judge']"
   ]
  },
  {
   "cell_type": "code",
   "execution_count": 206,
   "id": "bbedbd04-58bd-478b-957d-37a49a6bddd3",
   "metadata": {},
   "outputs": [],
   "source": [
    "combined['Profession'] = combined['Profession'].apply(lambda x:x if x in y else 'Unknown')"
   ]
  },
  {
   "cell_type": "code",
   "execution_count": 207,
   "id": "8b7ed488-d5df-4395-a364-624e4a0d05c2",
   "metadata": {},
   "outputs": [],
   "source": [
    "combined.loc[\n",
    "    (\n",
    "        (combined['Academic Pressure'].isnull()) & (combined['Work/Study Hours'] == 0) & (combined['Working Professional or Student'] == 'Student')\n",
    "    ), \n",
    "        'Academic Pressure'\n",
    "] = 0"
   ]
  },
  {
   "cell_type": "code",
   "execution_count": 208,
   "id": "98c4533c-257b-4081-916b-2690c4bd7829",
   "metadata": {},
   "outputs": [],
   "source": [
    "combined.loc[\n",
    "    (\n",
    "        (combined['Academic Pressure'].isnull()) & (combined['Working Professional or Student'] == 'Working Professional')\n",
    "    ), \n",
    "        'Academic Pressure'\n",
    "] = 0"
   ]
  },
  {
   "cell_type": "code",
   "execution_count": 209,
   "id": "02d94461-6595-4ebd-8307-461e3af3f098",
   "metadata": {},
   "outputs": [],
   "source": [
    "combined.loc[combined['Academic Pressure'].isnull(), 'Academic Pressure'] = combined[combined['Working Professional or Student'] == 'Student']['Academic Pressure'].mode()[0]"
   ]
  },
  {
   "cell_type": "code",
   "execution_count": 210,
   "id": "d816086c-3683-442c-b6b4-1aad905848c7",
   "metadata": {},
   "outputs": [],
   "source": [
    "combined.loc[\n",
    "    (\n",
    "        (combined['Working Professional or Student'] == 'Working Professional') & (combined['Work Pressure'].isna())\n",
    "    ),\n",
    "    'Work Pressure'\n",
    "] = 0"
   ]
  },
  {
   "cell_type": "code",
   "execution_count": 211,
   "id": "453636d0-7d98-436d-a25c-475d1c931c5e",
   "metadata": {},
   "outputs": [],
   "source": [
    "combined.loc[\n",
    "    (\n",
    "        (combined['Working Professional or Student'] == 'Student') & (combined['Work Pressure'].isna())\n",
    "    ),\n",
    "    'Work Pressure'\n",
    "] = 0"
   ]
  },
  {
   "cell_type": "code",
   "execution_count": 212,
   "id": "8ff5eded-a2da-43b7-84bb-b750904f27a7",
   "metadata": {},
   "outputs": [],
   "source": [
    "combined.loc[combined['Work Pressure'].isnull(), 'Work Pressure'] = combined[combined['Working Professional or Student'] == 'Working Professional']['Work Pressure'].mode()[0]"
   ]
  },
  {
   "cell_type": "code",
   "execution_count": 213,
   "id": "b3a435cc-9190-4274-b760-048afe7f060d",
   "metadata": {},
   "outputs": [],
   "source": [
    "combined.loc[\n",
    "    (\n",
    "        (combined['Working Professional or Student'] == 'Working Professional') & (combined['CGPA'].isna())\n",
    "    ),\n",
    "    'CGPA'\n",
    "] = 0"
   ]
  },
  {
   "cell_type": "code",
   "execution_count": 214,
   "id": "177ebcb1-bb30-45e2-80fe-93ead7cb9102",
   "metadata": {},
   "outputs": [],
   "source": [
    "combined.loc[combined['CGPA'].isnull(), 'CGPA'] = combined[combined['Working Professional or Student'] == 'Working Professional']['CGPA'].mode()[0]"
   ]
  },
  {
   "cell_type": "code",
   "execution_count": 215,
   "id": "21187d1f-b7ab-45ed-ae70-0463d6ae6748",
   "metadata": {},
   "outputs": [],
   "source": [
    "combined.loc[\n",
    "    (\n",
    "        (combined['Working Professional or Student'] == 'Student') & (combined['Job Satisfaction'].isna())\n",
    "    ),\n",
    "    'Job Satisfaction'\n",
    "] = 0"
   ]
  },
  {
   "cell_type": "code",
   "execution_count": 216,
   "id": "e5eff2e2-a278-4c3a-a2eb-e4a09952bda2",
   "metadata": {},
   "outputs": [],
   "source": [
    "combined.loc[combined['Job Satisfaction'].isnull(), 'Job Satisfaction'] = combined[combined['Working Professional or Student'] == 'Working Professional']['Job Satisfaction'].mode()[0]"
   ]
  },
  {
   "cell_type": "code",
   "execution_count": 217,
   "id": "80381fc9-9e04-4f36-a598-e9fc41dcaae2",
   "metadata": {},
   "outputs": [],
   "source": [
    "combined.loc[\n",
    "    (\n",
    "        (combined['Working Professional or Student'] == 'Working Professional') & (combined['Study Satisfaction'].isna())\n",
    "    ),\n",
    "    'Study Satisfaction'\n",
    "] = 0"
   ]
  },
  {
   "cell_type": "code",
   "execution_count": 218,
   "id": "bf76785c-3818-4421-bdaa-6603831bf6dc",
   "metadata": {},
   "outputs": [],
   "source": [
    "combined.loc[combined['Study Satisfaction'].isnull(), 'Study Satisfaction'] = combined[combined['Working Professional or Student'] == 'Working Professional']['Study Satisfaction'].mode()[0]"
   ]
  },
  {
   "cell_type": "code",
   "execution_count": 253,
   "id": "68f8cf92-1df6-418c-ad43-7ab079931396",
   "metadata": {},
   "outputs": [
    {
     "data": {
      "text/plain": [
       "array(['More than 8 hours', 'Less than 5 hours', '5-6 hours', '7-8 hours',\n",
       "       'Sleep_Duration', '1-2 hours', '6-8 hours', '4-6 hours',\n",
       "       '6-7 hours', '10-11 hours', '8-9 hours', '40-45 hours',\n",
       "       '9-11 hours', '2-3 hours', '3-4 hours', 'Moderate', '55-66 hours',\n",
       "       '4-5 hours', '9-6 hours', '1-3 hours', 'Indore', '45', '1-6 hours',\n",
       "       '35-36 hours', '8 hours', 'No', '10-6 hours', 'than 5 hours',\n",
       "       '49 hours', 'Unhealthy', 'Work_Study_Hours', '3-6 hours',\n",
       "       '45-48 hours', '9-5', 'Pune', '9-5 hours', '0', 'Meerut',\n",
       "       '60-65 hours', 'Vivan', '8-89 hours',\n",
       "       'Have_you_ever_had_suicidal_thoughts', '20-21 hours', '6 hours',\n",
       "       '50-75 hours', '9-10 hours'], dtype=object)"
      ]
     },
     "execution_count": 253,
     "metadata": {},
     "output_type": "execute_result"
    }
   ],
   "source": [
    "combined['Sleep Duration'].unique()"
   ]
  },
  {
   "cell_type": "code",
   "execution_count": 255,
   "id": "1c5ddf96-8c3b-417f-88e1-21b5b5f0cc90",
   "metadata": {},
   "outputs": [],
   "source": [
    "sleep_map = {'More than 8 hours': '8+ hours', 'Less than 5 hours': '< 5 hours', '6-8 hours': '6-8 hours', '4-6 hours': '5-6 hours',\n",
    "            '5-6 hours': '5-6 hours', '6-7 hours': '6-8 hours', '7-8 hours': '6-8 hours','8-9 hours': '8+ hours','9-11 hours': '8+ hours',\n",
    "            '10-11 hours': '8+ hours','1-2 hours': '< 5 hours','2-3 hours': '< 5 hours', '3-4 hours': '< 5 hours','4-5 hours': '< 5 hours',\n",
    "            '9-5 hours': 'Unknown','10-6 hours': 'Unknown', '40-45 hours': 'Unknown', '49 hours': 'Unknown','Moderate': 'Unknown',\n",
    "            'Sleep_Duration': 'Unknown', 'Unhealthy':\"Unknown\", 'Pune':\"Unknown\", 'Indore': \"Unknown\", 'Vivian':\"Unknown\", \n",
    "             'Work_Study_Hours':\"Unknown\", 'Have_you_ever_had_suicidal_thoughts':\"Unknown\" }"
   ]
  },
  {
   "cell_type": "code",
   "execution_count": 257,
   "id": "d79bc4fd-b836-428a-8b04-2578df4a1fb2",
   "metadata": {},
   "outputs": [],
   "source": [
    "combined['Sleep Duration'] = combined['Sleep Duration'].map(sleep_map)"
   ]
  },
  {
   "cell_type": "code",
   "execution_count": 259,
   "id": "45653197-de01-4fbf-b700-e979da49bc75",
   "metadata": {},
   "outputs": [],
   "source": [
    "combined['Sleep Duration'] = combined['Sleep Duration'].fillna(\"Unknown\")"
   ]
  },
  {
   "cell_type": "code",
   "execution_count": 261,
   "id": "3313482b-6311-47e3-a9d9-7e8170b3736f",
   "metadata": {},
   "outputs": [
    {
     "data": {
      "text/plain": [
       "array(['8+ hours', '< 5 hours', '5-6 hours', '6-8 hours', 'Unknown'],\n",
       "      dtype=object)"
      ]
     },
     "execution_count": 261,
     "metadata": {},
     "output_type": "execute_result"
    }
   ],
   "source": [
    "combined['Sleep Duration'].unique()"
   ]
  },
  {
   "cell_type": "code",
   "execution_count": 263,
   "id": "d2a88572-b8d2-4e1b-a267-548b947d60c5",
   "metadata": {},
   "outputs": [
    {
     "data": {
      "text/plain": [
       "array(['Healthy', 'Unhealthy', 'Moderate', 'Yes', 'Pratham', 'BSc',\n",
       "       'Gender', '3', 'More Healthy', 'Less than Healthy', 'Mihir', '1.0',\n",
       "       'Hormonal', 'Electrician', nan, 'No Healthy', 'Less Healthy',\n",
       "       'M.Tech', 'Vegas', 'No', 'Male', 'Indoor', 'Class 12', '2',\n",
       "       'Prachi', 'Mealy', 'Resistant', 'MCA', '5 Healthy', 'Academic',\n",
       "       'Educational', 'Soham', '5 Unhealthy', 'Vivaan', 'Raghav', 'Naina',\n",
       "       'Kolkata'], dtype=object)"
      ]
     },
     "execution_count": 263,
     "metadata": {},
     "output_type": "execute_result"
    }
   ],
   "source": [
    "combined['Dietary Habits'].unique()"
   ]
  },
  {
   "cell_type": "code",
   "execution_count": 265,
   "id": "c2d32c5d-da42-4d57-85cb-e584f6da9c24",
   "metadata": {},
   "outputs": [],
   "source": [
    "diet_map = {'Healthy': 'Healthy', 'Unhealthy': 'Unhealthy','Moderate': 'Moderate', 'More Healthy': 'Healthy', 'Less Healthy': 'Unhealthy',\n",
    "            'Less than Healthy': 'Unhealthy', 'No Healthy': 'Unhealthy', 'Hormonal': 'Unhealthy', 'Yes': 'Unknown','No': 'Unknown',\n",
    "            'Pratham':'Unknown', 'BSc':'Unknown', 'Gender':'Unknown', '3':'Unknown', 'Mihir':'Unknown', '1.0':'Unknown', 'Hormonal':'Unknown',\n",
    "            'Electrician':'Unknown','M.Tech':'Unknown', 'Vegas':'Unknown', 'Male':'Unknown', 'Indoor':'Unknown', 'Class 12':'Unknown', '2':'Unknown',\n",
    "            'Prachi':'Unknown', 'Mealy':'Unknown', 'Resistant':'Unknown', 'MCA': 'Unknown', '5 Healthy':'Unknown', 'Academic':'Unknown',\n",
    "            'Educational':'Unknown', 'Soham':'Unknown', '5 Unhealthy':'Unknown', 'Vivian':'Unknown', 'Raghav':'Unknown', 'Naina':'Unknown',\n",
    "            'Kolkata':'Unknown'}"
   ]
  },
  {
   "cell_type": "code",
   "execution_count": 267,
   "id": "f535e735-ec5c-4a9a-ad45-9122971e987c",
   "metadata": {},
   "outputs": [],
   "source": [
    "combined['Dietary Habits'] = combined['Dietary Habits'].map(diet_map)"
   ]
  },
  {
   "cell_type": "code",
   "execution_count": 269,
   "id": "9f43b5e5-f8f4-4dda-95c7-669c7d3cc26b",
   "metadata": {},
   "outputs": [],
   "source": [
    "combined['Dietary Habits'] = combined['Dietary Habits'].fillna('Unknown')"
   ]
  },
  {
   "cell_type": "code",
   "execution_count": 273,
   "id": "2c36d96c-8a60-4faf-93bf-0a868398362d",
   "metadata": {},
   "outputs": [
    {
     "data": {
      "text/plain": [
       "array(['BHM', 'LLB', 'B.Pharm', 'BBA', 'MCA', 'MD', 'BSc', 'ME', 'B.Arch',\n",
       "       'BCA', 'BE', 'MA', 'B.Ed', 'B.Com', 'MBA', 'M.Com', 'MHM', 'BA',\n",
       "       'Class 12', 'M.Tech', 'PhD', 'M.Ed', 'MSc', 'B.Tech', 'LLM',\n",
       "       'MBBS', 'M.Pharm', 'UX/UI Designer', 'MPA', 'BH', 'Nalini', 'BEd',\n",
       "       'B.Sc', 'Veda', 'Bhopal', 'S.Tech', 'Degree', '20', 'Class 11',\n",
       "       'H_Pharm', 'M', 'P.Com', 'BPharm', 'Business Analyst', 'M.Arch',\n",
       "       'LL.Com', 'Data Scientist', 'MPharm', 'L.Ed', 'P.Pharm', 'Kalyan',\n",
       "       'Unite', 'BArch', 'HR Manager', 'Badhya', 'S.Pharm', 'LLBA',\n",
       "       'Vrinda', 'M. Business Analyst', 'Bhavesh', '0', 'LLCom', '29',\n",
       "       'MTech', 'Vivaan', 'BPA', 'Plumber', '5.61', 'Brit', 'B.03',\n",
       "       'Ritik', '5.56', 'MEd', 'B', 'B BA', '7.06', 'B.B.Arch', 'ACA',\n",
       "       'Brithika', 'CGPA', '24', 'M_Tech', 'Pihu', 'BB', 'Jhanvi',\n",
       "       'LLTech', 'Aarav', 'Entrepreneur', '8.56', 'LHM', 'Lata', 'S.Arch',\n",
       "       'Marsh', 'HCA', '5.88', 'B.Student', 'LL B.Ed', 'M.S', 'Navya',\n",
       "       'Mahika', nan, 'K.Ed', 'B.3.79', 'Mthanya', 'Working Professional',\n",
       "       'Esha', 'LLS', 'LLEd', 'E.Tech', 'Doctor', 'N.Pharm', 'LCA',\n",
       "       'B B.Com', 'RCA', 'Mihir', 'Advait', 'BTech', 'B. Gender',\n",
       "       'B.Study_Hours', 'A.Ed', 'Mechanical Engineer', 'B.H', 'M.UI',\n",
       "       'Vibha', 'B BCA', 'B.Press', 'Gagan', 'Travel Consultant', '5.65',\n",
       "       'Eshita', 'B_Com', 'B._Pharm', 'Pune', 'Bian', 'B.M.Com', 'Kavya',\n",
       "       'M.M.Ed', 'E.Ed', '3.0', 'Moham', 'B.BA', 'I.Ed', 'Magan',\n",
       "       'B B.Tech', 'M.B.Ed', 'B Financial Analyst', 'GCA', 'G.Ed',\n",
       "       'Rupak', 'B.CA', 'PCA', 'J.Ed', '8.95', 'Aadhya', 'Banchal', 'M.',\n",
       "       'BHCA'], dtype=object)"
      ]
     },
     "execution_count": 273,
     "metadata": {},
     "output_type": "execute_result"
    }
   ],
   "source": [
    "combined['Degree'].unique()"
   ]
  },
  {
   "cell_type": "code",
   "execution_count": 275,
   "id": "d82c1803-c898-4736-9dba-3c3adbac74fd",
   "metadata": {},
   "outputs": [],
   "source": [
    "degree_map = {'B.Sc': 'BSc', 'BPharm': 'B.Pharm', 'BEd': 'B.Ed', 'MTech': 'M.Tech', 'MPharm': 'M.Pharm', 'LLM': 'LL.B', 'LLTech': 'LL.B',\n",
    "            'B.B.Arch': 'B.Arch', 'B BA': 'BBA', 'LL.Com': 'LL.B', 'LLS': 'LL.B','P.Com': 'B.Com', 'H_Pharm': 'B.Pharm', 'LHM': 'MHM',\n",
    "            'S.Tech': 'B.Tech', 'M_Tech': 'M.Tech' }"
   ]
  },
  {
   "cell_type": "code",
   "execution_count": 277,
   "id": "0d78531a-b2cb-4885-99eb-4b5a4ac66936",
   "metadata": {},
   "outputs": [],
   "source": [
    "combined['Degree'] = combined['Degree'].map(degree_map)"
   ]
  },
  {
   "cell_type": "code",
   "execution_count": 279,
   "id": "f2c0f3b3-7686-4f16-a250-3d635b89630d",
   "metadata": {},
   "outputs": [],
   "source": [
    "combined['Degree'] = combined['Degree'].apply(lambda x:x if x in degree_map else 'Unknown')"
   ]
  },
  {
   "cell_type": "code",
   "execution_count": 283,
   "id": "4603bb17-2714-4d5f-995d-9a048e2daee5",
   "metadata": {},
   "outputs": [
    {
     "data": {
      "text/plain": [
       "array([ 2.,  3.,  1.,  4.,  5., nan])"
      ]
     },
     "execution_count": 283,
     "metadata": {},
     "output_type": "execute_result"
    }
   ],
   "source": [
    "combined['Financial Stress'].unique()"
   ]
  },
  {
   "cell_type": "code",
   "execution_count": 285,
   "id": "86379d9b-b151-4026-8d16-ea0097450403",
   "metadata": {},
   "outputs": [],
   "source": [
    "combined['Financial Stress'] = combined['Financial Stress'].fillna(combined['Financial Stress'].median())"
   ]
  },
  {
   "cell_type": "code",
   "execution_count": 289,
   "id": "8664bf77-b822-4f1e-abac-ad4bd0d42106",
   "metadata": {},
   "outputs": [
    {
     "data": {
      "text/plain": [
       "array(['Working Professional', 'Student'], dtype=object)"
      ]
     },
     "execution_count": 289,
     "metadata": {},
     "output_type": "execute_result"
    }
   ],
   "source": [
    "combined['Working Professional or Student'].unique()"
   ]
  },
  {
   "cell_type": "code",
   "execution_count": 291,
   "id": "18e00813-1858-44ce-9ed6-56ba25cc405e",
   "metadata": {},
   "outputs": [],
   "source": [
    "combined = combined.drop(['id', 'Name'],axis = 1)"
   ]
  },
  {
   "cell_type": "code",
   "execution_count": 295,
   "id": "45c9d20d-6e19-4a0d-89c2-2220d3bc0858",
   "metadata": {},
   "outputs": [],
   "source": [
    "categorical_columns = combined.select_dtypes(include= 'object')"
   ]
  },
  {
   "cell_type": "code",
   "execution_count": 297,
   "id": "9e2630f1-1195-43e0-8409-64379c9cae62",
   "metadata": {},
   "outputs": [],
   "source": [
    "le = LabelEncoder()"
   ]
  },
  {
   "cell_type": "code",
   "execution_count": 301,
   "id": "341940b5-a171-4bdf-9a30-45668ade8bde",
   "metadata": {},
   "outputs": [],
   "source": [
    "for i in categorical_columns.columns:\n",
    "    combined[i] = le.fit_transform(combined[i])"
   ]
  },
  {
   "cell_type": "code",
   "execution_count": 303,
   "id": "de2a0ca7-ed3c-4f84-9fc2-7d928b240be2",
   "metadata": {},
   "outputs": [
    {
     "name": "stdout",
     "output_type": "stream",
     "text": [
      "<class 'pandas.core.frame.DataFrame'>\n",
      "Index: 234500 entries, 0 to 93799\n",
      "Data columns (total 18 columns):\n",
      " #   Column                                 Non-Null Count   Dtype  \n",
      "---  ------                                 --------------   -----  \n",
      " 0   Gender                                 234500 non-null  int32  \n",
      " 1   Age                                    234500 non-null  float64\n",
      " 2   City                                   234500 non-null  int32  \n",
      " 3   Working Professional or Student        234500 non-null  int32  \n",
      " 4   Profession                             234500 non-null  int32  \n",
      " 5   Academic Pressure                      234500 non-null  float64\n",
      " 6   Work Pressure                          234500 non-null  float64\n",
      " 7   CGPA                                   234500 non-null  float64\n",
      " 8   Study Satisfaction                     234500 non-null  float64\n",
      " 9   Job Satisfaction                       234500 non-null  float64\n",
      " 10  Sleep Duration                         234500 non-null  int32  \n",
      " 11  Dietary Habits                         234500 non-null  int32  \n",
      " 12  Degree                                 234500 non-null  int32  \n",
      " 13  Have you ever had suicidal thoughts ?  234500 non-null  int32  \n",
      " 14  Work/Study Hours                       234500 non-null  float64\n",
      " 15  Financial Stress                       234500 non-null  float64\n",
      " 16  Family History of Mental Illness       234500 non-null  int32  \n",
      " 17  Depression                             140700 non-null  float64\n",
      "dtypes: float64(9), int32(9)\n",
      "memory usage: 25.9 MB\n"
     ]
    }
   ],
   "source": [
    "combined.info()"
   ]
  },
  {
   "cell_type": "code",
   "execution_count": 305,
   "id": "1dfefced-96b6-499b-8138-7ba4b511bdfa",
   "metadata": {},
   "outputs": [],
   "source": [
    "newtrain = combined.iloc[0:140700, :]\n",
    "newtest = combined.iloc[140700: , :]"
   ]
  },
  {
   "cell_type": "code",
   "execution_count": 307,
   "id": "2e376842-739c-4d98-9e1e-23352a409b93",
   "metadata": {},
   "outputs": [
    {
     "data": {
      "text/plain": [
       "(140700, 18)"
      ]
     },
     "execution_count": 307,
     "metadata": {},
     "output_type": "execute_result"
    }
   ],
   "source": [
    "newtrain.shape"
   ]
  },
  {
   "cell_type": "code",
   "execution_count": 309,
   "id": "6db45769-635a-4132-b8d2-15da034e5d5d",
   "metadata": {},
   "outputs": [
    {
     "data": {
      "text/plain": [
       "(93800, 17)"
      ]
     },
     "execution_count": 309,
     "metadata": {},
     "output_type": "execute_result"
    }
   ],
   "source": [
    "newtest = newtest.drop('Depression', axis = 1)\n",
    "newtest.shape"
   ]
  },
  {
   "cell_type": "code",
   "execution_count": 313,
   "id": "57b1d6e0-1f08-4f98-82cf-0b2eb592c4fd",
   "metadata": {},
   "outputs": [],
   "source": [
    "x = newtrain.drop('Depression', axis = 1)\n",
    "y = newtrain['Depression']"
   ]
  },
  {
   "cell_type": "code",
   "execution_count": 315,
   "id": "9eb6853a-5345-4643-a92b-5bdaea396c0c",
   "metadata": {},
   "outputs": [],
   "source": [
    "sc = StandardScaler()\n",
    "x_scaled = sc.fit_transform(x)"
   ]
  },
  {
   "cell_type": "code",
   "execution_count": 337,
   "id": "d33d238e-f9c6-4041-9c45-546fba07ef61",
   "metadata": {},
   "outputs": [],
   "source": [
    "X_train, X_test, y_train, y_test = train_test_split(x_scaled, y, test_size = 0.2, random_state = 42)"
   ]
  },
  {
   "cell_type": "code",
   "execution_count": 339,
   "id": "a2978f42-13a5-4376-b33d-060e78280aab",
   "metadata": {},
   "outputs": [],
   "source": [
    "models = {'Logistic Regression': LogisticRegression(), 'Random Forest': RandomForestClassifier(),\n",
    "         'Bagging': BaggingClassifier(), 'Extra Tree': ExtraTreesClassifier(), 'LightGBM': LGBMClassifier(),\n",
    "         'Gradient Boosting': GradientBoostingClassifier(), 'Adaboost': AdaBoostClassifier(),\n",
    "         'XGB': XGBClassifier()}"
   ]
  },
  {
   "cell_type": "code",
   "execution_count": 351,
   "id": "fcc2d59f-2bb6-4842-95f3-8060da5d0924",
   "metadata": {},
   "outputs": [],
   "source": [
    "def evaluate_models(X_train, X_test, y_train, y_test, models):\n",
    "    results = {}\n",
    "    for name, model in models.items():\n",
    "        predictions = model.fit(X_train, y_train).predict(X_test)\n",
    "        accuracy = accuracy_score(y_test, predictions)\n",
    "        results[name] = accuracy\n",
    "    return results"
   ]
  },
  {
   "cell_type": "code",
   "execution_count": 353,
   "id": "daf2ad5f-5a07-40ea-827f-74d5d1a54b8b",
   "metadata": {},
   "outputs": [
    {
     "name": "stdout",
     "output_type": "stream",
     "text": [
      "[LightGBM] [Info] Number of positive: 20413, number of negative: 92147\n",
      "[LightGBM] [Info] Auto-choosing row-wise multi-threading, the overhead of testing was 0.003107 seconds.\n",
      "You can set `force_row_wise=true` to remove the overhead.\n",
      "And if memory is not enough, you can set `force_col_wise=true`.\n",
      "[LightGBM] [Info] Total Bins 442\n",
      "[LightGBM] [Info] Number of data points in the train set: 112560, number of used features: 16\n",
      "[LightGBM] [Info] [binary:BoostFromScore]: pavg=0.181352 -> initscore=-1.507213\n",
      "[LightGBM] [Info] Start training from score -1.507213\n"
     ]
    },
    {
     "name": "stderr",
     "output_type": "stream",
     "text": [
      "C:\\Users\\ahpat\\anaconda3\\Lib\\site-packages\\sklearn\\ensemble\\_weight_boosting.py:527: FutureWarning: The SAMME.R algorithm (the default) is deprecated and will be removed in 1.6. Use the SAMME algorithm to circumvent this warning.\n",
      "  warnings.warn(\n"
     ]
    }
   ],
   "source": [
    "results = evaluate_models(x_train, X_test, y_train, y_test, models)"
   ]
  },
  {
   "cell_type": "code",
   "execution_count": 354,
   "id": "b6835306-54a1-4650-878c-d23c9ac86d03",
   "metadata": {},
   "outputs": [],
   "source": [
    "best_model_name = max(results, key = results.get)\n",
    "best_model = models[best_model_name]"
   ]
  },
  {
   "cell_type": "code",
   "execution_count": 355,
   "id": "7ee2542f-923d-44b3-b1c1-d78c519ef66a",
   "metadata": {},
   "outputs": [
    {
     "name": "stdout",
     "output_type": "stream",
     "text": [
      "best model is LightGBM with accuracy 0.9386993603411514\n"
     ]
    }
   ],
   "source": [
    "print(f\"best model is {best_model_name} with accuracy {results[best_model_name]}\")"
   ]
  },
  {
   "cell_type": "code",
   "execution_count": 359,
   "id": "85a62c63-2aa5-40e0-a6bc-11633526d277",
   "metadata": {},
   "outputs": [
    {
     "name": "stdout",
     "output_type": "stream",
     "text": [
      "[LightGBM] [Info] Number of positive: 20413, number of negative: 92147\n",
      "[LightGBM] [Info] Auto-choosing row-wise multi-threading, the overhead of testing was 0.003021 seconds.\n",
      "You can set `force_row_wise=true` to remove the overhead.\n",
      "And if memory is not enough, you can set `force_col_wise=true`.\n",
      "[LightGBM] [Info] Total Bins 442\n",
      "[LightGBM] [Info] Number of data points in the train set: 112560, number of used features: 16\n",
      "[LightGBM] [Info] [binary:BoostFromScore]: pavg=0.181352 -> initscore=-1.507213\n",
      "[LightGBM] [Info] Start training from score -1.507213\n"
     ]
    }
   ],
   "source": [
    "y_pred = best_model.fit(X_train, y_train).predict(X_test)"
   ]
  },
  {
   "cell_type": "code",
   "execution_count": 361,
   "id": "bd0e32c2-829f-4673-841d-83a989500c63",
   "metadata": {},
   "outputs": [
    {
     "name": "stdout",
     "output_type": "stream",
     "text": [
      "0.9386993603411514\n"
     ]
    }
   ],
   "source": [
    "print(accuracy_score(y_test, y_pred))"
   ]
  },
  {
   "cell_type": "code",
   "execution_count": 363,
   "id": "b758ef0a-56ad-4890-b330-b8e7d1b2d95f",
   "metadata": {},
   "outputs": [
    {
     "name": "stdout",
     "output_type": "stream",
     "text": [
      "[LightGBM] [Warning] Found whitespace in feature_names, replace with underlines\n",
      "[LightGBM] [Info] Number of positive: 25567, number of negative: 115133\n",
      "[LightGBM] [Info] Auto-choosing row-wise multi-threading, the overhead of testing was 0.002529 seconds.\n",
      "You can set `force_row_wise=true` to remove the overhead.\n",
      "And if memory is not enough, you can set `force_col_wise=true`.\n",
      "[LightGBM] [Info] Total Bins 433\n",
      "[LightGBM] [Info] Number of data points in the train set: 140700, number of used features: 16\n",
      "[LightGBM] [Info] [binary:BoostFromScore]: pavg=0.181713 -> initscore=-1.504786\n",
      "[LightGBM] [Info] Start training from score -1.504786\n"
     ]
    }
   ],
   "source": [
    "x_train = newtrain.drop('Depression', axis = 1)\n",
    "y_train = newtrain['Depression']\n",
    "x_test = newtest\n",
    "y_pred = best_model.fit(x_train, y_train).predict(x_test)"
   ]
  },
  {
   "cell_type": "code",
   "execution_count": 371,
   "id": "871c1bb6-01ce-494e-94a2-cfb49f530d59",
   "metadata": {},
   "outputs": [
    {
     "data": {
      "text/html": [
       "<div>\n",
       "<style scoped>\n",
       "    .dataframe tbody tr th:only-of-type {\n",
       "        vertical-align: middle;\n",
       "    }\n",
       "\n",
       "    .dataframe tbody tr th {\n",
       "        vertical-align: top;\n",
       "    }\n",
       "\n",
       "    .dataframe thead th {\n",
       "        text-align: right;\n",
       "    }\n",
       "</style>\n",
       "<table border=\"1\" class=\"dataframe\">\n",
       "  <thead>\n",
       "    <tr style=\"text-align: right;\">\n",
       "      <th></th>\n",
       "      <th>id</th>\n",
       "      <th>Depression</th>\n",
       "    </tr>\n",
       "  </thead>\n",
       "  <tbody>\n",
       "    <tr>\n",
       "      <th>0</th>\n",
       "      <td>140700</td>\n",
       "      <td>0</td>\n",
       "    </tr>\n",
       "    <tr>\n",
       "      <th>1</th>\n",
       "      <td>140701</td>\n",
       "      <td>0</td>\n",
       "    </tr>\n",
       "    <tr>\n",
       "      <th>2</th>\n",
       "      <td>140702</td>\n",
       "      <td>0</td>\n",
       "    </tr>\n",
       "    <tr>\n",
       "      <th>3</th>\n",
       "      <td>140703</td>\n",
       "      <td>1</td>\n",
       "    </tr>\n",
       "    <tr>\n",
       "      <th>4</th>\n",
       "      <td>140704</td>\n",
       "      <td>0</td>\n",
       "    </tr>\n",
       "  </tbody>\n",
       "</table>\n",
       "</div>"
      ],
      "text/plain": [
       "       id  Depression\n",
       "0  140700           0\n",
       "1  140701           0\n",
       "2  140702           0\n",
       "3  140703           1\n",
       "4  140704           0"
      ]
     },
     "execution_count": 371,
     "metadata": {},
     "output_type": "execute_result"
    }
   ],
   "source": [
    "solution = pd.DataFrame({'id': test['id'], 'Depression': (y_pred)})\n",
    "solution['Depression'] = solution['Depression'].astype(int)\n",
    "solution.head()"
   ]
  },
  {
   "cell_type": "code",
   "execution_count": 373,
   "id": "0da3218e-1bd5-48bc-bdfc-8811279af40f",
   "metadata": {},
   "outputs": [],
   "source": [
    "solution.to_csv('Solution.csv', index = False)"
   ]
  },
  {
   "cell_type": "code",
   "execution_count": null,
   "id": "50cf493f-4889-490f-bdbc-f1c28ecf09da",
   "metadata": {},
   "outputs": [],
   "source": []
  }
 ],
 "metadata": {
  "kernelspec": {
   "display_name": "Python 3 (ipykernel)",
   "language": "python",
   "name": "python3"
  },
  "language_info": {
   "codemirror_mode": {
    "name": "ipython",
    "version": 3
   },
   "file_extension": ".py",
   "mimetype": "text/x-python",
   "name": "python",
   "nbconvert_exporter": "python",
   "pygments_lexer": "ipython3",
   "version": "3.12.7"
  }
 },
 "nbformat": 4,
 "nbformat_minor": 5
}
