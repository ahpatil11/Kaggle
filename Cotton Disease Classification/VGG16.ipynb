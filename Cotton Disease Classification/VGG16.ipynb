{
 "cells": [
  {
   "cell_type": "code",
   "execution_count": 54,
   "id": "173b1f1c",
   "metadata": {},
   "outputs": [
    {
     "name": "stdout",
     "output_type": "stream",
     "text": [
      "2.5.0\n"
     ]
    }
   ],
   "source": [
    "import tensorflow as tf\n",
    "print(tf.__version__)"
   ]
  },
  {
   "cell_type": "code",
   "execution_count": 55,
   "id": "7f3b0dca",
   "metadata": {},
   "outputs": [],
   "source": [
    "from tensorflow.compat.v1 import ConfigProto\n",
    "from tensorflow.compat.v1 import InteractiveSession\n",
    "\n",
    "config = ConfigProto()\n",
    "config.gpu_options.per_process_gpu_memory_fraction = 0.5\n",
    "config.gpu_options.allow_growth = True\n",
    "session = InteractiveSession(config=config)"
   ]
  },
  {
   "cell_type": "code",
   "execution_count": 56,
   "id": "6adfd8b7",
   "metadata": {},
   "outputs": [],
   "source": [
    "from tensorflow.keras.layers import Input, Lambda, Dense, Flatten\n",
    "from tensorflow.keras.models import Model\n",
    "from tensorflow.keras.applications.vgg16 import VGG16\n",
    "from tensorflow.keras.applications.vgg19 import VGG19\n",
    "from tensorflow.keras.preprocessing import image\n",
    "from tensorflow.keras.preprocessing.image import ImageDataGenerator,load_img\n",
    "from tensorflow.keras.models import Sequential\n",
    "import numpy as np\n",
    "from glob import glob"
   ]
  },
  {
   "cell_type": "code",
   "execution_count": 57,
   "id": "7c133e97",
   "metadata": {},
   "outputs": [],
   "source": [
    "IMAGE_SIZE = [224, 224]\n",
    "\n",
    "train_path = 'Datasets/train'\n",
    "valid_path = 'Datasets/test'"
   ]
  },
  {
   "cell_type": "code",
   "execution_count": 58,
   "id": "a60970ce",
   "metadata": {},
   "outputs": [],
   "source": [
    "vgg16 = VGG16(input_shape=IMAGE_SIZE + [3], weights='imagenet', include_top=False)"
   ]
  },
  {
   "cell_type": "code",
   "execution_count": 59,
   "id": "c96786c1",
   "metadata": {},
   "outputs": [],
   "source": [
    "for layer in vgg16.layers:\n",
    "    layer.trainable = False"
   ]
  },
  {
   "cell_type": "code",
   "execution_count": 60,
   "id": "93130993",
   "metadata": {},
   "outputs": [],
   "source": [
    "folders = glob('Datasets/train/*')"
   ]
  },
  {
   "cell_type": "code",
   "execution_count": 61,
   "id": "50309bb1",
   "metadata": {},
   "outputs": [
    {
     "data": {
      "text/plain": [
       "['Datasets/train\\\\diseased cotton leaf',\n",
       " 'Datasets/train\\\\diseased cotton plant',\n",
       " 'Datasets/train\\\\fresh cotton leaf',\n",
       " 'Datasets/train\\\\fresh cotton plant']"
      ]
     },
     "execution_count": 61,
     "metadata": {},
     "output_type": "execute_result"
    }
   ],
   "source": [
    "folders"
   ]
  },
  {
   "cell_type": "code",
   "execution_count": 62,
   "id": "b4d23013",
   "metadata": {},
   "outputs": [],
   "source": [
    "x = Flatten()(vgg16.output)"
   ]
  },
  {
   "cell_type": "code",
   "execution_count": 63,
   "id": "5ed59cff",
   "metadata": {},
   "outputs": [
    {
     "data": {
      "text/plain": [
       "4"
      ]
     },
     "execution_count": 63,
     "metadata": {},
     "output_type": "execute_result"
    }
   ],
   "source": [
    "len(folders)"
   ]
  },
  {
   "cell_type": "code",
   "execution_count": 64,
   "id": "fa86a38e",
   "metadata": {},
   "outputs": [],
   "source": [
    "prediction = Dense(len(folders), activation='softmax')(x)\n",
    "\n",
    "# create a model object\n",
    "model = Model(inputs=vgg16.input, outputs=prediction)"
   ]
  },
  {
   "cell_type": "code",
   "execution_count": 65,
   "id": "66fe6c97",
   "metadata": {},
   "outputs": [
    {
     "name": "stdout",
     "output_type": "stream",
     "text": [
      "Model: \"model_3\"\n",
      "_________________________________________________________________\n",
      "Layer (type)                 Output Shape              Param #   \n",
      "=================================================================\n",
      "input_5 (InputLayer)         [(None, 224, 224, 3)]     0         \n",
      "_________________________________________________________________\n",
      "block1_conv1 (Conv2D)        (None, 224, 224, 64)      1792      \n",
      "_________________________________________________________________\n",
      "block1_conv2 (Conv2D)        (None, 224, 224, 64)      36928     \n",
      "_________________________________________________________________\n",
      "block1_pool (MaxPooling2D)   (None, 112, 112, 64)      0         \n",
      "_________________________________________________________________\n",
      "block2_conv1 (Conv2D)        (None, 112, 112, 128)     73856     \n",
      "_________________________________________________________________\n",
      "block2_conv2 (Conv2D)        (None, 112, 112, 128)     147584    \n",
      "_________________________________________________________________\n",
      "block2_pool (MaxPooling2D)   (None, 56, 56, 128)       0         \n",
      "_________________________________________________________________\n",
      "block3_conv1 (Conv2D)        (None, 56, 56, 256)       295168    \n",
      "_________________________________________________________________\n",
      "block3_conv2 (Conv2D)        (None, 56, 56, 256)       590080    \n",
      "_________________________________________________________________\n",
      "block3_conv3 (Conv2D)        (None, 56, 56, 256)       590080    \n",
      "_________________________________________________________________\n",
      "block3_pool (MaxPooling2D)   (None, 28, 28, 256)       0         \n",
      "_________________________________________________________________\n",
      "block4_conv1 (Conv2D)        (None, 28, 28, 512)       1180160   \n",
      "_________________________________________________________________\n",
      "block4_conv2 (Conv2D)        (None, 28, 28, 512)       2359808   \n",
      "_________________________________________________________________\n",
      "block4_conv3 (Conv2D)        (None, 28, 28, 512)       2359808   \n",
      "_________________________________________________________________\n",
      "block4_pool (MaxPooling2D)   (None, 14, 14, 512)       0         \n",
      "_________________________________________________________________\n",
      "block5_conv1 (Conv2D)        (None, 14, 14, 512)       2359808   \n",
      "_________________________________________________________________\n",
      "block5_conv2 (Conv2D)        (None, 14, 14, 512)       2359808   \n",
      "_________________________________________________________________\n",
      "block5_conv3 (Conv2D)        (None, 14, 14, 512)       2359808   \n",
      "_________________________________________________________________\n",
      "block5_pool (MaxPooling2D)   (None, 7, 7, 512)         0         \n",
      "_________________________________________________________________\n",
      "flatten_3 (Flatten)          (None, 25088)             0         \n",
      "_________________________________________________________________\n",
      "dense_3 (Dense)              (None, 4)                 100356    \n",
      "=================================================================\n",
      "Total params: 14,815,044\n",
      "Trainable params: 100,356\n",
      "Non-trainable params: 14,714,688\n",
      "_________________________________________________________________\n"
     ]
    }
   ],
   "source": [
    "model.summary()"
   ]
  },
  {
   "cell_type": "code",
   "execution_count": 66,
   "id": "50eaeea6",
   "metadata": {},
   "outputs": [],
   "source": [
    "model.compile(\n",
    "  loss='categorical_crossentropy',\n",
    "  optimizer='adam',\n",
    "  metrics=['accuracy']\n",
    ")"
   ]
  },
  {
   "cell_type": "code",
   "execution_count": 67,
   "id": "d02277b1",
   "metadata": {},
   "outputs": [],
   "source": [
    "from tensorflow.keras.preprocessing.image import ImageDataGenerator\n",
    "\n",
    "train_datagen = ImageDataGenerator(rescale = 1./255,\n",
    "                                   shear_range = 0.2,\n",
    "                                   zoom_range = 0.2,\n",
    "                                   horizontal_flip = True)\n",
    "\n",
    "test_datagen = ImageDataGenerator(rescale = 1./255)"
   ]
  },
  {
   "cell_type": "code",
   "execution_count": 68,
   "id": "2d948573",
   "metadata": {},
   "outputs": [
    {
     "name": "stdout",
     "output_type": "stream",
     "text": [
      "Found 1951 images belonging to 4 classes.\n"
     ]
    }
   ],
   "source": [
    "training_set = train_datagen.flow_from_directory('Datasets/train',\n",
    "                                                 target_size = (224, 224),\n",
    "                                                 batch_size = 32,\n",
    "                                                 class_mode = 'categorical')\n"
   ]
  },
  {
   "cell_type": "code",
   "execution_count": 69,
   "id": "2c3d7f75",
   "metadata": {},
   "outputs": [
    {
     "name": "stdout",
     "output_type": "stream",
     "text": [
      "Found 106 images belonging to 4 classes.\n"
     ]
    }
   ],
   "source": [
    "test_set = test_datagen.flow_from_directory('Datasets/test',\n",
    "                                            target_size = (224, 224),\n",
    "                                            batch_size = 32,\n",
    "                                            class_mode = 'categorical')\n"
   ]
  },
  {
   "cell_type": "code",
   "execution_count": 70,
   "id": "006ff559",
   "metadata": {},
   "outputs": [
    {
     "name": "stdout",
     "output_type": "stream",
     "text": [
      "Epoch 1/5\n",
      "61/61 [==============================] - 249s 4s/step - loss: 0.7161 - accuracy: 0.7514 - val_loss: 0.3163 - val_accuracy: 0.8774\n",
      "Epoch 2/5\n",
      "61/61 [==============================] - 243s 4s/step - loss: 0.2348 - accuracy: 0.9180 - val_loss: 0.2367 - val_accuracy: 0.9245\n",
      "Epoch 3/5\n",
      "61/61 [==============================] - 241s 4s/step - loss: 0.1684 - accuracy: 0.9400 - val_loss: 0.2057 - val_accuracy: 0.9245\n",
      "Epoch 4/5\n",
      "61/61 [==============================] - 241s 4s/step - loss: 0.1474 - accuracy: 0.9421 - val_loss: 0.1330 - val_accuracy: 0.9717\n",
      "Epoch 5/5\n",
      "61/61 [==============================] - 243s 4s/step - loss: 0.1146 - accuracy: 0.9580 - val_loss: 0.1147 - val_accuracy: 0.9528\n"
     ]
    }
   ],
   "source": [
    "r = model.fit_generator(\n",
    "  training_set,\n",
    "  validation_data=test_set,\n",
    "  epochs=5,\n",
    "  steps_per_epoch=len(training_set),\n",
    "  validation_steps=len(test_set)\n",
    ")"
   ]
  },
  {
   "cell_type": "code",
   "execution_count": 71,
   "id": "0301f2b5",
   "metadata": {},
   "outputs": [],
   "source": [
    "import matplotlib.pyplot as plt"
   ]
  },
  {
   "cell_type": "code",
   "execution_count": 72,
   "id": "4d1deff6",
   "metadata": {},
   "outputs": [
    {
     "data": {
      "image/png": "[encoded data removed]",
      "text/plain": [
       "<Figure size 432x288 with 1 Axes>"
      ]
     },
     "metadata": {
      "needs_background": "light"
     },
     "output_type": "display_data"
    },
    {
     "data": {
      "image/png": "[encoded data removed]",
      "text/plain": [
       "<Figure size 432x288 with 1 Axes>"
      ]
     },
     "metadata": {
      "needs_background": "light"
     },
     "output_type": "display_data"
    },
    {
     "data": {
      "text/plain": [
       "<Figure size 432x288 with 0 Axes>"
      ]
     },
     "metadata": {},
     "output_type": "display_data"
    }
   ],
   "source": [
    "plt.plot(r.history['loss'], label='train loss')\n",
    "plt.plot(r.history['val_loss'], label='val loss')\n",
    "plt.legend()\n",
    "plt.show()\n",
    "plt.savefig('LossVal_loss')\n",
    "\n",
    "# plot the accuracy\n",
    "plt.plot(r.history['accuracy'], label='train acc')\n",
    "plt.plot(r.history['val_accuracy'], label='val acc')\n",
    "plt.legend()\n",
    "plt.show()\n",
    "plt.savefig('AccVal_acc')\n"
   ]
  },
  {
   "cell_type": "code",
   "execution_count": 73,
   "id": "6efcdc2e",
   "metadata": {},
   "outputs": [],
   "source": [
    "from tensorflow.keras.models import load_model\n",
    "\n",
    "model.save('model_vgg16.h5')"
   ]
  },
  {
   "cell_type": "code",
   "execution_count": 74,
   "id": "bbefe777",
   "metadata": {},
   "outputs": [],
   "source": [
    "y_pred = model.predict(test_set)\n"
   ]
  },
  {
   "cell_type": "code",
   "execution_count": 75,
   "id": "d7f57c51",
   "metadata": {},
   "outputs": [
    {
     "data": {
      "text/plain": [
       "array([[1.29222928e-03, 1.46679289e-04, 9.98557985e-01, 3.03336674e-06],\n",
       "       [1.01493697e-05, 2.60096509e-02, 9.95445771e-06, 9.73970234e-01],\n",
       "       [2.70551885e-03, 5.25522931e-03, 9.74647045e-01, 1.73921697e-02],\n",
       "       [4.56437527e-04, 1.37374565e-01, 2.01621908e-04, 8.61967385e-01],\n",
       "       [8.71714115e-01, 4.33114583e-05, 1.28235474e-01, 7.07237041e-06],\n",
       "       [9.99752343e-01, 1.51040455e-04, 6.86307540e-05, 2.79307224e-05],\n",
       "       [3.27938906e-05, 3.19893323e-02, 9.63632658e-04, 9.67014134e-01],\n",
       "       [3.49068403e-04, 6.83713481e-02, 2.24088071e-04, 9.31055486e-01],\n",
       "       [2.80655874e-03, 3.26237245e-03, 9.72137332e-01, 2.17937585e-02],\n",
       "       [2.28025410e-02, 1.37425850e-05, 9.77166712e-01, 1.69865380e-05],\n",
       "       [7.87192039e-05, 9.94850695e-01, 2.97932202e-05, 5.04072523e-03],\n",
       "       [1.56591297e-03, 1.29345983e-06, 9.98432815e-01, 1.42713121e-08],\n",
       "       [4.80448408e-03, 5.90507454e-07, 9.95193243e-01, 1.66984853e-06],\n",
       "       [5.09036845e-03, 2.77812040e-04, 9.82796133e-01, 1.18356533e-02],\n",
       "       [9.99749601e-01, 1.62902405e-04, 8.50601500e-05, 2.39295559e-06],\n",
       "       [7.61339688e-05, 9.97232378e-01, 7.64404285e-06, 2.68383767e-03],\n",
       "       [2.01839848e-05, 9.93484914e-01, 5.42497764e-05, 6.44073263e-03],\n",
       "       [9.99522448e-01, 2.94878646e-05, 4.47901228e-04, 1.22127375e-07],\n",
       "       [2.71561090e-04, 1.05192643e-02, 2.27730106e-05, 9.89186347e-01],\n",
       "       [4.43370140e-04, 9.75134909e-01, 2.53604492e-03, 2.18857192e-02],\n",
       "       [1.19969400e-03, 8.68629590e-02, 6.93701208e-03, 9.05000329e-01],\n",
       "       [9.82447922e-01, 1.47731480e-04, 1.73940044e-02, 1.03978909e-05],\n",
       "       [9.94387329e-01, 5.97278777e-05, 5.55169489e-03, 1.20703453e-06],\n",
       "       [1.04956643e-03, 1.31357312e-02, 9.50349867e-01, 3.54648419e-02],\n",
       "       [4.16474929e-03, 3.03182146e-03, 1.09440020e-06, 9.92802322e-01],\n",
       "       [9.99724925e-01, 1.01808240e-04, 1.29653636e-04, 4.36227529e-05],\n",
       "       [4.22684272e-04, 9.59222168e-02, 3.65242595e-03, 9.00002658e-01],\n",
       "       [1.41434102e-05, 4.46301099e-04, 8.76811828e-06, 9.99530792e-01],\n",
       "       [9.92153347e-01, 7.84112699e-03, 2.82699875e-06, 2.68885992e-06],\n",
       "       [3.17750871e-02, 2.45464910e-02, 7.29938924e-01, 2.13739485e-01],\n",
       "       [9.27454748e-05, 1.05683208e-02, 2.05626036e-03, 9.87282753e-01],\n",
       "       [7.42353499e-03, 4.69724415e-04, 9.90891278e-01, 1.21541671e-03],\n",
       "       [1.69404648e-05, 4.20672167e-03, 2.25459971e-05, 9.95753765e-01],\n",
       "       [2.80655874e-03, 3.26237245e-03, 9.72137332e-01, 2.17937585e-02],\n",
       "       [9.26270429e-03, 1.43264685e-07, 9.90736902e-01, 1.52371015e-07],\n",
       "       [3.08487943e-05, 9.97900009e-01, 2.23133597e-04, 1.84594688e-03],\n",
       "       [1.12828340e-04, 4.33520712e-02, 1.82888271e-05, 9.56516743e-01],\n",
       "       [6.31433772e-03, 8.20496916e-06, 9.93569136e-01, 1.08304717e-04],\n",
       "       [1.86273333e-04, 9.87920403e-01, 2.28918303e-04, 1.16644828e-02],\n",
       "       [5.05527760e-06, 9.97213542e-01, 1.40999946e-05, 2.76737055e-03],\n",
       "       [2.18568346e-03, 3.75161662e-08, 9.97814298e-01, 3.02038905e-09],\n",
       "       [1.21261925e-04, 1.17997173e-04, 9.97546732e-01, 2.21396564e-03],\n",
       "       [2.20999704e-04, 2.91539002e-02, 2.02728799e-04, 9.70422328e-01],\n",
       "       [2.45362899e-04, 9.49849069e-01, 5.05810371e-03, 4.48474661e-02],\n",
       "       [4.39975905e-04, 8.79699349e-01, 2.53068079e-04, 1.19607620e-01],\n",
       "       [2.50928756e-02, 7.62544453e-01, 4.60758992e-03, 2.07755104e-01],\n",
       "       [1.35237016e-04, 9.98192370e-01, 1.84243027e-06, 1.67050608e-03],\n",
       "       [3.50663395e-05, 9.70101893e-01, 2.72891230e-05, 2.98357867e-02],\n",
       "       [1.89219154e-05, 9.94798899e-01, 2.00144223e-05, 5.16224280e-03],\n",
       "       [3.24718218e-04, 2.68156290e-01, 1.67979342e-05, 7.31502235e-01],\n",
       "       [4.11678848e-05, 9.66789667e-03, 2.20848201e-03, 9.88082528e-01],\n",
       "       [7.58827024e-04, 9.12371457e-01, 1.43905418e-04, 8.67258236e-02],\n",
       "       [5.71596684e-05, 1.55203921e-07, 9.99942660e-01, 3.98822264e-09],\n",
       "       [6.00984320e-02, 6.69579729e-02, 1.34354327e-02, 8.59508157e-01],\n",
       "       [3.70489693e-06, 9.99844074e-01, 3.30014450e-06, 1.48838430e-04],\n",
       "       [9.52260802e-04, 9.71701622e-01, 3.98888398e-04, 2.69472972e-02],\n",
       "       [1.01079664e-03, 4.38574307e-06, 9.98982966e-01, 1.74780189e-06],\n",
       "       [3.71224087e-06, 2.65016686e-04, 8.03429721e-05, 9.99650955e-01],\n",
       "       [1.26952633e-01, 9.88236722e-03, 8.55387151e-01, 7.77785573e-03],\n",
       "       [1.08059356e-03, 1.45664392e-02, 1.12220719e-02, 9.73130882e-01],\n",
       "       [9.97430980e-01, 3.21569387e-05, 2.44592340e-03, 9.09530208e-05],\n",
       "       [9.83051419e-01, 1.82937962e-04, 1.67577639e-02, 7.79523907e-06],\n",
       "       [9.99715269e-01, 2.07940277e-04, 7.18658703e-05, 4.88576006e-06],\n",
       "       [7.33088527e-04, 1.97881639e-01, 6.29320333e-04, 8.00756037e-01],\n",
       "       [9.68852401e-01, 6.35080432e-05, 3.10807899e-02, 3.23467975e-06],\n",
       "       [9.59320366e-03, 8.85294168e-04, 9.83890116e-01, 5.63142495e-03],\n",
       "       [6.13999291e-05, 9.85794008e-01, 2.16501519e-08, 1.41445808e-02],\n",
       "       [2.02003255e-04, 9.67948556e-01, 2.94969097e-04, 3.15544680e-02],\n",
       "       [6.28343969e-06, 7.36980521e-09, 9.99993682e-01, 5.80000492e-09],\n",
       "       [1.50794873e-03, 6.71131313e-02, 7.04738824e-03, 9.24331605e-01],\n",
       "       [8.08283873e-03, 2.20996171e-01, 7.69084811e-01, 1.83612958e-03],\n",
       "       [4.68296523e-04, 2.88123097e-02, 5.77992760e-05, 9.70661581e-01],\n",
       "       [6.72634487e-05, 5.55288716e-06, 9.99902606e-01, 2.46070304e-05],\n",
       "       [9.99801934e-01, 3.14565004e-05, 1.66145925e-04, 4.36974346e-07],\n",
       "       [9.99898672e-01, 4.52160202e-05, 5.43627139e-05, 1.73360638e-06],\n",
       "       [2.07510438e-05, 3.18397564e-04, 2.09911566e-04, 9.99450982e-01],\n",
       "       [7.47715705e-04, 1.58132821e-07, 9.99252141e-01, 6.75649359e-09],\n",
       "       [6.80318262e-05, 9.98378515e-01, 5.23088202e-05, 1.50111306e-03],\n",
       "       [5.46400079e-05, 1.35325342e-08, 9.99945402e-01, 1.26774093e-08],\n",
       "       [7.26515472e-01, 2.71150768e-01, 2.38910492e-04, 2.09472328e-03],\n",
       "       [9.99950171e-01, 2.01458511e-06, 4.02855549e-05, 7.57878570e-06],\n",
       "       [6.20079391e-06, 9.99059141e-01, 1.74245216e-07, 9.34430282e-04],\n",
       "       [4.15834074e-06, 2.60468369e-06, 1.44096311e-05, 9.99978781e-01],\n",
       "       [5.72043296e-04, 9.79051352e-01, 2.92160967e-05, 2.03472879e-02],\n",
       "       [8.11810838e-04, 9.74566501e-06, 9.99130309e-01, 4.81097159e-05],\n",
       "       [2.59203534e-03, 1.95150683e-03, 9.95285094e-01, 1.71279127e-04],\n",
       "       [8.19067299e-01, 6.25776080e-03, 1.03409320e-01, 7.12656081e-02],\n",
       "       [6.84549814e-05, 2.10357476e-02, 5.23586711e-03, 9.73659933e-01],\n",
       "       [9.87647891e-01, 4.10682660e-05, 1.15000457e-02, 8.10941565e-04],\n",
       "       [9.99189198e-01, 3.81466998e-06, 6.99788856e-04, 1.07173626e-04],\n",
       "       [9.97815967e-01, 4.22818237e-04, 9.51740833e-04, 8.09500227e-04],\n",
       "       [9.99929667e-01, 6.86566127e-05, 1.27442445e-06, 3.93574993e-07],\n",
       "       [7.46499427e-05, 1.17413867e-02, 4.06762920e-05, 9.88143265e-01],\n",
       "       [4.61969321e-04, 9.73341882e-01, 5.95672645e-05, 2.61365063e-02],\n",
       "       [9.78130460e-01, 5.01353934e-04, 1.34343086e-02, 7.93385785e-03],\n",
       "       [3.15725483e-05, 1.02662770e-02, 9.23127751e-04, 9.88779068e-01],\n",
       "       [6.69137371e-05, 9.98391569e-01, 2.02629919e-04, 1.33886270e-03],\n",
       "       [4.33674501e-03, 2.80628540e-02, 4.93249204e-03, 9.62668002e-01],\n",
       "       [7.31757682e-05, 8.78042281e-01, 1.43971512e-04, 1.21740483e-01],\n",
       "       [1.56073278e-04, 9.86493945e-01, 8.42358168e-06, 1.33415218e-02],\n",
       "       [9.37392652e-01, 1.24218801e-04, 6.24260642e-02, 5.69946023e-05],\n",
       "       [9.31766117e-04, 9.87121403e-01, 4.05349710e-04, 1.15414271e-02],\n",
       "       [7.96397496e-03, 1.47506967e-03, 9.76165950e-01, 1.43949743e-02],\n",
       "       [1.46867969e-04, 1.78141251e-01, 7.60386829e-05, 8.21635783e-01],\n",
       "       [9.97419477e-01, 1.19657337e-03, 4.01710946e-04, 9.82232625e-04],\n",
       "       [2.93251069e-04, 4.98396275e-07, 9.99705374e-01, 8.14919190e-07]],\n",
       "      dtype=float32)"
      ]
     },
     "execution_count": 75,
     "metadata": {},
     "output_type": "execute_result"
    }
   ],
   "source": [
    "y_pred"
   ]
  },
  {
   "cell_type": "code",
   "execution_count": null,
   "id": "a26565d9",
   "metadata": {},
   "outputs": [],
   "source": []
  }
 ],
 "metadata": {
  "kernelspec": {
   "display_name": "Python 3",
   "language": "python",
   "name": "python3"
  },
  "language_info": {
   "codemirror_mode": {
    "name": "ipython",
    "version": 3
   },
   "file_extension": ".py",
   "mimetype": "text/x-python",
   "name": "python",
   "nbconvert_exporter": "python",
   "pygments_lexer": "ipython3",
   "version": "3.8.8"
  }
 },
 "nbformat": 4,
 "nbformat_minor": 5
}
